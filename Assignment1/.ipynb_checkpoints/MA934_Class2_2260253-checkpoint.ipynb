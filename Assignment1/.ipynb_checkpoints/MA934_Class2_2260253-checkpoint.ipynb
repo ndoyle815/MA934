{
 "cells": [
  {
   "cell_type": "markdown",
   "metadata": {},
   "source": [
    "# MA934 - class 2\n",
    "\n",
    "## Deadline: 12:00 noon on Thursday 20 October \n",
    "\n",
    "You should make at least one commit to your repository per computational task below - usually more.\n",
    "\n",
    "For this assignment, you must create a new Jupyter notebook called MA934_Class2_UniID.ipynb to contain the implementations that you write. You can separate out individual tasks if you prefer, but the full submission should be made as a single .zip via [our website](https://warwick.ac.uk/fac/sci/mathsys/courses/msc/ma934/resources/assessedwork/ma934declaration). The platform will not allow you to upload more than one file.\n",
    "\n",
    "A few tips:\n",
    "- please make sure to debug intermediate outputs as you code along. You are welcome to design smaller test cases and toy problems to verify your work (even if they are not part of the final submission).\n",
    "- consider possible forms of input or arguments and make sure your solution can cope with *interesting* cases.\n",
    "- do not forget to comment your code and use Markdown cells to explain what you are doing. A perfectly functional solution with no information about the thought process will not receive more than a subset of the points (~$70\\%$ depending on the difficulty of the problem and how transparent the algorithm flow is). \n",
    "- generally getting used to writing tidy solution is good practice. Feel free to use [online resources](https://www.ibm.com/docs/en/watson-studio-local/1.2.3?topic=notebooks-markdown-jupyter-cheatsheet) for editing guidance."
   ]
  },
  {
   "cell_type": "markdown",
   "metadata": {},
   "source": [
    "## Task 1 - insertion sort"
   ]
  },
  {
   "cell_type": "code",
   "execution_count": 1,
   "metadata": {},
   "outputs": [],
   "source": [
    "# Import libraries\n",
    "import time\n",
    "import numpy as np\n",
    "from numpy import linalg as LA\n",
    "import random\n",
    "import matplotlib.pyplot as plt\n",
    "plt.rcParams['text.usetex'] = True"
   ]
  },
  {
   "cell_type": "markdown",
   "metadata": {},
   "source": [
    "**Insertion sort algorithm:** This function is designed to only work for arrays and lists and will return an error for alternative datatypes. The idea is to iterate through elements of a list/array of size $n$ and move the element of interest leftwards until it meets an element of smaller size. Eventually, we arrive at a list/array of integers in ascending order."
   ]
  },
  {
   "cell_type": "code",
   "execution_count": 2,
   "metadata": {},
   "outputs": [],
   "source": [
    "#function to sort arrays using the insertion method \n",
    "def SortINSR(a):\n",
    "    if type(a) == np.ndarray or type(a) == list:\n",
    "        n = len(a)\n",
    "        if n == 1:\n",
    "            return a #re-return the array if it contains only one element\n",
    "        else:\n",
    "            for j in range(1,n): #for each iteration we focus on moving the a[j] element of the original array\n",
    "                k = j\n",
    "                while a[k] < a[k-1] and k > 0: #iterates until a[k] is in suitable position or at the beginning\n",
    "                    hold = a[k-1] #placeholder variable to store a[k-1] before replacement\n",
    "                    a[k-1] = a[k] #a[k] is now smaller value\n",
    "                    a[k] = hold #a[k] is now larger value\n",
    "                    k -= 1 #move index down the array to compare with next smaller element\n",
    "        \n",
    "            return a #array has been sorted\n",
    "    else:\n",
    "        return 'Error: argument must be a list or array'"
   ]
  },
  {
   "cell_type": "markdown",
   "metadata": {},
   "source": [
    "**Testing:**"
   ]
  },
  {
   "cell_type": "code",
   "execution_count": 3,
   "metadata": {},
   "outputs": [
    {
     "name": "stdout",
     "output_type": "stream",
     "text": [
      "[  12  162  178  213  263  291  336  396  427  510  548  568  665  691\n",
      "  713  773  778  780  830  890  923  936 1000 1079 1162 1166 1202 1373\n",
      " 1414 1442 1518 1552 1569 1623 1626 1718 1800 1839 1861 1889 1915 1946\n",
      " 2058 2070 2148 2156 2160 2201 2243 2273 2283 2311 2347 2414 2417 2491\n",
      " 2512 2536 2584 2679 2767 2828 2891 2990 3052 3079 3185 3274 3358 3389\n",
      " 3397 3453 3456 3517 3586 3645 3678 3780 3947 3987 3996 4158 4194 4235\n",
      " 4243 4313 4333 4373 4398 4655 4742 4797 4802 4871 4879 4898 4910 4919\n",
      " 4934 4957]\n"
     ]
    }
   ],
   "source": [
    "#test case\n",
    "#visible by eye - arrays up to 100 in size\n",
    "test1 = np.array(random.sample(range(1,5000),100))\n",
    "print(SortINSR(test1))\n",
    "\n",
    "#for larger arrays\n",
    "test1 = np.array(random.sample(range(1,5000),1000))\n",
    "for l in range(2,len(test1)):\n",
    "    if test1[l] < SortINSR(test1)[:l-1].max() or test1[l] < test1[l-1]:\n",
    "        print('whoops') #should have no output if correct"
   ]
  },
  {
   "cell_type": "markdown",
   "metadata": {},
   "source": [
    "## Task 2 - mergesort"
   ]
  },
  {
   "cell_type": "markdown",
   "metadata": {},
   "source": [
    "**(Given) interlace function:** This function is designed to __only__ work for lists and will return an error for alternative datatypes. Since the \"+\" operation differs in meaning from lists to arrays, implementing the algorithm for arrays will return the sum of entries in the arrays, rather than appending elements to ```alist```. The objective is to interlace two lists, ```list1``` and ```list2``` of size $n$ and $m$ respectively, and create a new list, called ```alist```, of size $n + m$. In each iteration we append alist with the smaller of ```list1``` and ```list2``` elements. When we make a comparison between the $i$-th element of ```list1``` against the $j$-th element of ```list2```, our next iteration will either compare the $i+1$-th element of ```list1``` against the $j$-th element of ```list2``` if ```list1[i]``` is smaller, or compare the $i$-th element of ```list1``` against the $j+1$-th element of ```list2``` if ```list2[j]``` is smaller. This is the recursive part of the algorithm. For our next comparison we can call the function again to interlace ```list1[i:]``` and ```list2[j:]```, as the previous elements in ```list1``` and ```list2``` have already been considered for interlacing and lie in ```alist```."
   ]
  },
  {
   "cell_type": "code",
   "execution_count": 4,
   "metadata": {},
   "outputs": [],
   "source": [
    "#Interlacing function\n",
    "def interlace(list1, list2):\n",
    "    if type(list1) == list and type(list2) == list:\n",
    "        alist = [] #new empty list to hold the interlaced elements\n",
    "        if (len(list1) == 0):\n",
    "            return list2\n",
    "        elif (len(list2) == 0):\n",
    "            return list1\n",
    "        elif list1[0] < list2[0]:\n",
    "            alist.append(list1[0]) #add list1[0] to alist if smaller than list2[0]\n",
    "            return alist + interlace(list1[1:], list2) #recursive part - will compare next element of list1 with list2[0] etc\n",
    "        else:\n",
    "            alist.append(list2[0]) #add list2[0] to alist if smaller than list1[0]\n",
    "            return alist + interlace(list1, list2[1:]) #recursive part - will compare next element of list1 with list1[0] etc\n",
    "    \n",
    "    else:\n",
    "        return 'Error: arguments must be lists'"
   ]
  },
  {
   "cell_type": "markdown",
   "metadata": {},
   "source": [
    "**Testing:**"
   ]
  },
  {
   "cell_type": "code",
   "execution_count": 5,
   "metadata": {},
   "outputs": [
    {
     "name": "stdout",
     "output_type": "stream",
     "text": [
      "test2 =  [27, 938, 1116, 438, 941, 1437, 822, 46, 335, 948]\n",
      "test2 =  [314, 330, 878, 1995, 1412, 1991, 768, 569, 1463, 969]\n",
      "[27, 314, 330, 878, 938, 1116, 438, 941, 1437, 822, 46, 335, 948, 1995, 1412, 1991, 768, 569, 1463, 969]\n"
     ]
    }
   ],
   "source": [
    "#test cases (interlacing)\n",
    "test2 = random.sample(range(1,2000),10)\n",
    "test3 = random.sample(range(1,2000),10)\n",
    "print('test2 = ',test2)\n",
    "print('test2 = ',test3)\n",
    "print(interlace(test2,test3))"
   ]
  },
  {
   "cell_type": "markdown",
   "metadata": {},
   "source": [
    "**Mergesort function:** This function is designed to work for lists and will return an error for alternative datatypes. If the given argument is an array, it will convert it to a list using ```array.tolist()```. The idea is to apply the recursive interlace function above to interlace the first half of the list with the second. If our given list is odd, our separation point is $m = \\lfloor n/2 \\rfloor$ so the second list is one element larger. Mergesort is a recursive algorithm - the two arrays are already sorted and the final sort should occur in $\\mathcal{O} (n)$ time."
   ]
  },
  {
   "cell_type": "code",
   "execution_count": 6,
   "metadata": {},
   "outputs": [],
   "source": [
    "#mergesort function\n",
    "def SortMERGE(a):\n",
    "    if type(a) == np.ndarray:\n",
    "        a = a.tolist() #need to convert arrays to lists for interlacing function to work\n",
    "    if type(a) == list:\n",
    "        n = len(a)\n",
    "        if n == 1:\n",
    "            return a #re-return the list if it contains only one element\n",
    "        else:\n",
    "            m = int(np.floor(n/2))\n",
    "            return interlace(SortMERGE(a[0:m]),SortMERGE(a[m:n])) #recursive part - interlace first half of list with the second half\n",
    "        \n",
    "    else:\n",
    "        return 'Error: arguments must be lists'"
   ]
  },
  {
   "cell_type": "markdown",
   "metadata": {},
   "source": [
    "**Testing:**"
   ]
  },
  {
   "cell_type": "code",
   "execution_count": 7,
   "metadata": {},
   "outputs": [
    {
     "name": "stdout",
     "output_type": "stream",
     "text": [
      "[171, 669, 695, 811, 912, 1334, 1445, 1476, 1564, 1957]\n"
     ]
    }
   ],
   "source": [
    "#test case\n",
    "#visible by eye - arrays up to 100 in size\n",
    "test4 = np.array(random.sample(range(1,2000),10))\n",
    "print(SortMERGE(test4))\n",
    "\n",
    "#for larger arrays\n",
    "test4 = np.array(random.sample(range(1,5000),1000))\n",
    "for l in range(2,len(test4)):\n",
    "    if test4[l] < SortINSR(test4)[:l-1].max() or test4[l] < test4[l-1]:\n",
    "        print('whoops') #should have no output if correct"
   ]
  },
  {
   "cell_type": "markdown",
   "metadata": {},
   "source": [
    "## Task 3 - fixing mergesort"
   ]
  },
  {
   "cell_type": "code",
   "execution_count": 8,
   "metadata": {},
   "outputs": [
    {
     "ename": "RecursionError",
     "evalue": "maximum recursion depth exceeded while calling a Python object",
     "output_type": "error",
     "traceback": [
      "\u001b[0;31m---------------------------------------------------------------------------\u001b[0m",
      "\u001b[0;31mRecursionError\u001b[0m                            Traceback (most recent call last)",
      "Input \u001b[0;32mIn [8]\u001b[0m, in \u001b[0;36m<cell line: 3>\u001b[0;34m()\u001b[0m\n\u001b[1;32m      1\u001b[0m \u001b[38;5;66;03m#testing for the maximum recursion depth for mergesort\u001b[39;00m\n\u001b[1;32m      2\u001b[0m test5 \u001b[38;5;241m=\u001b[39m random\u001b[38;5;241m.\u001b[39msample(\u001b[38;5;28mrange\u001b[39m(\u001b[38;5;241m1\u001b[39m,\u001b[38;5;241m10\u001b[39m\u001b[38;5;241m*\u001b[39m\u001b[38;5;241m*\u001b[39m\u001b[38;5;241m12\u001b[39m),\u001b[38;5;241m2\u001b[39m\u001b[38;5;241m*\u001b[39m\u001b[38;5;241m*\u001b[39m\u001b[38;5;241m12\u001b[39m)\n\u001b[0;32m----> 3\u001b[0m result \u001b[38;5;241m=\u001b[39m \u001b[43mSortMERGE\u001b[49m\u001b[43m(\u001b[49m\u001b[43mtest5\u001b[49m\u001b[43m)\u001b[49m\n",
      "Input \u001b[0;32mIn [6]\u001b[0m, in \u001b[0;36mSortMERGE\u001b[0;34m(a)\u001b[0m\n\u001b[1;32m      9\u001b[0m     \u001b[38;5;28;01melse\u001b[39;00m:\n\u001b[1;32m     10\u001b[0m         m \u001b[38;5;241m=\u001b[39m \u001b[38;5;28mint\u001b[39m(np\u001b[38;5;241m.\u001b[39mfloor(n\u001b[38;5;241m/\u001b[39m\u001b[38;5;241m2\u001b[39m))\n\u001b[0;32m---> 11\u001b[0m         \u001b[38;5;28;01mreturn\u001b[39;00m \u001b[43minterlace\u001b[49m\u001b[43m(\u001b[49m\u001b[43mSortMERGE\u001b[49m\u001b[43m(\u001b[49m\u001b[43ma\u001b[49m\u001b[43m[\u001b[49m\u001b[38;5;241;43m0\u001b[39;49m\u001b[43m:\u001b[49m\u001b[43mm\u001b[49m\u001b[43m]\u001b[49m\u001b[43m)\u001b[49m\u001b[43m,\u001b[49m\u001b[43mSortMERGE\u001b[49m\u001b[43m(\u001b[49m\u001b[43ma\u001b[49m\u001b[43m[\u001b[49m\u001b[43mm\u001b[49m\u001b[43m:\u001b[49m\u001b[43mn\u001b[49m\u001b[43m]\u001b[49m\u001b[43m)\u001b[49m\u001b[43m)\u001b[49m \u001b[38;5;66;03m#recursive part - interlace first half of list with the second half\u001b[39;00m\n\u001b[1;32m     13\u001b[0m \u001b[38;5;28;01melse\u001b[39;00m:\n\u001b[1;32m     14\u001b[0m     \u001b[38;5;28;01mreturn\u001b[39;00m \u001b[38;5;124m'\u001b[39m\u001b[38;5;124mError: arguments must be lists\u001b[39m\u001b[38;5;124m'\u001b[39m\n",
      "Input \u001b[0;32mIn [4]\u001b[0m, in \u001b[0;36minterlace\u001b[0;34m(list1, list2)\u001b[0m\n\u001b[1;32m     12\u001b[0m     \u001b[38;5;28;01melse\u001b[39;00m:\n\u001b[1;32m     13\u001b[0m         alist\u001b[38;5;241m.\u001b[39mappend(list2[\u001b[38;5;241m0\u001b[39m]) \u001b[38;5;66;03m#add list2[0] to alist if smaller than list1[0]\u001b[39;00m\n\u001b[0;32m---> 14\u001b[0m         \u001b[38;5;28;01mreturn\u001b[39;00m alist \u001b[38;5;241m+\u001b[39m \u001b[43minterlace\u001b[49m\u001b[43m(\u001b[49m\u001b[43mlist1\u001b[49m\u001b[43m,\u001b[49m\u001b[43m \u001b[49m\u001b[43mlist2\u001b[49m\u001b[43m[\u001b[49m\u001b[38;5;241;43m1\u001b[39;49m\u001b[43m:\u001b[49m\u001b[43m]\u001b[49m\u001b[43m)\u001b[49m \u001b[38;5;66;03m#recursive part - will compare next element of list1 with list1[0] etc\u001b[39;00m\n\u001b[1;32m     16\u001b[0m \u001b[38;5;28;01melse\u001b[39;00m:\n\u001b[1;32m     17\u001b[0m     \u001b[38;5;28;01mreturn\u001b[39;00m \u001b[38;5;124m'\u001b[39m\u001b[38;5;124mError: arguments must be lists\u001b[39m\u001b[38;5;124m'\u001b[39m\n",
      "Input \u001b[0;32mIn [4]\u001b[0m, in \u001b[0;36minterlace\u001b[0;34m(list1, list2)\u001b[0m\n\u001b[1;32m     12\u001b[0m     \u001b[38;5;28;01melse\u001b[39;00m:\n\u001b[1;32m     13\u001b[0m         alist\u001b[38;5;241m.\u001b[39mappend(list2[\u001b[38;5;241m0\u001b[39m]) \u001b[38;5;66;03m#add list2[0] to alist if smaller than list1[0]\u001b[39;00m\n\u001b[0;32m---> 14\u001b[0m         \u001b[38;5;28;01mreturn\u001b[39;00m alist \u001b[38;5;241m+\u001b[39m \u001b[43minterlace\u001b[49m\u001b[43m(\u001b[49m\u001b[43mlist1\u001b[49m\u001b[43m,\u001b[49m\u001b[43m \u001b[49m\u001b[43mlist2\u001b[49m\u001b[43m[\u001b[49m\u001b[38;5;241;43m1\u001b[39;49m\u001b[43m:\u001b[49m\u001b[43m]\u001b[49m\u001b[43m)\u001b[49m \u001b[38;5;66;03m#recursive part - will compare next element of list1 with list1[0] etc\u001b[39;00m\n\u001b[1;32m     16\u001b[0m \u001b[38;5;28;01melse\u001b[39;00m:\n\u001b[1;32m     17\u001b[0m     \u001b[38;5;28;01mreturn\u001b[39;00m \u001b[38;5;124m'\u001b[39m\u001b[38;5;124mError: arguments must be lists\u001b[39m\u001b[38;5;124m'\u001b[39m\n",
      "Input \u001b[0;32mIn [4]\u001b[0m, in \u001b[0;36minterlace\u001b[0;34m(list1, list2)\u001b[0m\n\u001b[1;32m      9\u001b[0m \u001b[38;5;28;01melif\u001b[39;00m list1[\u001b[38;5;241m0\u001b[39m] \u001b[38;5;241m<\u001b[39m list2[\u001b[38;5;241m0\u001b[39m]:\n\u001b[1;32m     10\u001b[0m     alist\u001b[38;5;241m.\u001b[39mappend(list1[\u001b[38;5;241m0\u001b[39m]) \u001b[38;5;66;03m#add list1[0] to alist if smaller than list2[0]\u001b[39;00m\n\u001b[0;32m---> 11\u001b[0m     \u001b[38;5;28;01mreturn\u001b[39;00m alist \u001b[38;5;241m+\u001b[39m \u001b[43minterlace\u001b[49m\u001b[43m(\u001b[49m\u001b[43mlist1\u001b[49m\u001b[43m[\u001b[49m\u001b[38;5;241;43m1\u001b[39;49m\u001b[43m:\u001b[49m\u001b[43m]\u001b[49m\u001b[43m,\u001b[49m\u001b[43m \u001b[49m\u001b[43mlist2\u001b[49m\u001b[43m)\u001b[49m \u001b[38;5;66;03m#recursive part - will compare next element of list1 with list2[0] etc\u001b[39;00m\n\u001b[1;32m     12\u001b[0m \u001b[38;5;28;01melse\u001b[39;00m:\n\u001b[1;32m     13\u001b[0m     alist\u001b[38;5;241m.\u001b[39mappend(list2[\u001b[38;5;241m0\u001b[39m]) \u001b[38;5;66;03m#add list2[0] to alist if smaller than list1[0]\u001b[39;00m\n",
      "Input \u001b[0;32mIn [4]\u001b[0m, in \u001b[0;36minterlace\u001b[0;34m(list1, list2)\u001b[0m\n\u001b[1;32m      9\u001b[0m \u001b[38;5;28;01melif\u001b[39;00m list1[\u001b[38;5;241m0\u001b[39m] \u001b[38;5;241m<\u001b[39m list2[\u001b[38;5;241m0\u001b[39m]:\n\u001b[1;32m     10\u001b[0m     alist\u001b[38;5;241m.\u001b[39mappend(list1[\u001b[38;5;241m0\u001b[39m]) \u001b[38;5;66;03m#add list1[0] to alist if smaller than list2[0]\u001b[39;00m\n\u001b[0;32m---> 11\u001b[0m     \u001b[38;5;28;01mreturn\u001b[39;00m alist \u001b[38;5;241m+\u001b[39m \u001b[43minterlace\u001b[49m\u001b[43m(\u001b[49m\u001b[43mlist1\u001b[49m\u001b[43m[\u001b[49m\u001b[38;5;241;43m1\u001b[39;49m\u001b[43m:\u001b[49m\u001b[43m]\u001b[49m\u001b[43m,\u001b[49m\u001b[43m \u001b[49m\u001b[43mlist2\u001b[49m\u001b[43m)\u001b[49m \u001b[38;5;66;03m#recursive part - will compare next element of list1 with list2[0] etc\u001b[39;00m\n\u001b[1;32m     12\u001b[0m \u001b[38;5;28;01melse\u001b[39;00m:\n\u001b[1;32m     13\u001b[0m     alist\u001b[38;5;241m.\u001b[39mappend(list2[\u001b[38;5;241m0\u001b[39m]) \u001b[38;5;66;03m#add list2[0] to alist if smaller than list1[0]\u001b[39;00m\n",
      "    \u001b[0;31m[... skipping similar frames: interlace at line 14 (1494 times), interlace at line 11 (1470 times)]\u001b[0m\n",
      "Input \u001b[0;32mIn [4]\u001b[0m, in \u001b[0;36minterlace\u001b[0;34m(list1, list2)\u001b[0m\n\u001b[1;32m     12\u001b[0m     \u001b[38;5;28;01melse\u001b[39;00m:\n\u001b[1;32m     13\u001b[0m         alist\u001b[38;5;241m.\u001b[39mappend(list2[\u001b[38;5;241m0\u001b[39m]) \u001b[38;5;66;03m#add list2[0] to alist if smaller than list1[0]\u001b[39;00m\n\u001b[0;32m---> 14\u001b[0m         \u001b[38;5;28;01mreturn\u001b[39;00m alist \u001b[38;5;241m+\u001b[39m \u001b[43minterlace\u001b[49m\u001b[43m(\u001b[49m\u001b[43mlist1\u001b[49m\u001b[43m,\u001b[49m\u001b[43m \u001b[49m\u001b[43mlist2\u001b[49m\u001b[43m[\u001b[49m\u001b[38;5;241;43m1\u001b[39;49m\u001b[43m:\u001b[49m\u001b[43m]\u001b[49m\u001b[43m)\u001b[49m \u001b[38;5;66;03m#recursive part - will compare next element of list1 with list1[0] etc\u001b[39;00m\n\u001b[1;32m     16\u001b[0m \u001b[38;5;28;01melse\u001b[39;00m:\n\u001b[1;32m     17\u001b[0m     \u001b[38;5;28;01mreturn\u001b[39;00m \u001b[38;5;124m'\u001b[39m\u001b[38;5;124mError: arguments must be lists\u001b[39m\u001b[38;5;124m'\u001b[39m\n",
      "    \u001b[0;31m[... skipping similar frames: interlace at line 11 (1 times)]\u001b[0m\n",
      "Input \u001b[0;32mIn [4]\u001b[0m, in \u001b[0;36minterlace\u001b[0;34m(list1, list2)\u001b[0m\n\u001b[1;32m      9\u001b[0m \u001b[38;5;28;01melif\u001b[39;00m list1[\u001b[38;5;241m0\u001b[39m] \u001b[38;5;241m<\u001b[39m list2[\u001b[38;5;241m0\u001b[39m]:\n\u001b[1;32m     10\u001b[0m     alist\u001b[38;5;241m.\u001b[39mappend(list1[\u001b[38;5;241m0\u001b[39m]) \u001b[38;5;66;03m#add list1[0] to alist if smaller than list2[0]\u001b[39;00m\n\u001b[0;32m---> 11\u001b[0m     \u001b[38;5;28;01mreturn\u001b[39;00m alist \u001b[38;5;241m+\u001b[39m \u001b[43minterlace\u001b[49m\u001b[43m(\u001b[49m\u001b[43mlist1\u001b[49m\u001b[43m[\u001b[49m\u001b[38;5;241;43m1\u001b[39;49m\u001b[43m:\u001b[49m\u001b[43m]\u001b[49m\u001b[43m,\u001b[49m\u001b[43m \u001b[49m\u001b[43mlist2\u001b[49m\u001b[43m)\u001b[49m \u001b[38;5;66;03m#recursive part - will compare next element of list1 with list2[0] etc\u001b[39;00m\n\u001b[1;32m     12\u001b[0m \u001b[38;5;28;01melse\u001b[39;00m:\n\u001b[1;32m     13\u001b[0m     alist\u001b[38;5;241m.\u001b[39mappend(list2[\u001b[38;5;241m0\u001b[39m]) \u001b[38;5;66;03m#add list2[0] to alist if smaller than list1[0]\u001b[39;00m\n",
      "Input \u001b[0;32mIn [4]\u001b[0m, in \u001b[0;36minterlace\u001b[0;34m(list1, list2)\u001b[0m\n\u001b[1;32m      2\u001b[0m \u001b[38;5;28;01mdef\u001b[39;00m \u001b[38;5;21minterlace\u001b[39m(list1, list2):\n\u001b[0;32m----> 3\u001b[0m     \u001b[38;5;28;01mif\u001b[39;00m \u001b[38;5;28;43mtype\u001b[39;49m\u001b[43m(\u001b[49m\u001b[43mlist1\u001b[49m\u001b[43m)\u001b[49m \u001b[38;5;241m==\u001b[39m \u001b[38;5;28mlist\u001b[39m \u001b[38;5;129;01mand\u001b[39;00m \u001b[38;5;28mtype\u001b[39m(list2) \u001b[38;5;241m==\u001b[39m \u001b[38;5;28mlist\u001b[39m:\n\u001b[1;32m      4\u001b[0m         alist \u001b[38;5;241m=\u001b[39m [] \u001b[38;5;66;03m#new empty list to hold the interlaced elements\u001b[39;00m\n\u001b[1;32m      5\u001b[0m         \u001b[38;5;28;01mif\u001b[39;00m (\u001b[38;5;28mlen\u001b[39m(list1) \u001b[38;5;241m==\u001b[39m \u001b[38;5;241m0\u001b[39m):\n",
      "\u001b[0;31mRecursionError\u001b[0m: maximum recursion depth exceeded while calling a Python object"
     ]
    }
   ],
   "source": [
    "#testing for the maximum recursion depth for mergesort\n",
    "test5 = random.sample(range(1,10**12),2**12)\n",
    "result = SortMERGE(test5)"
   ]
  },
  {
   "cell_type": "markdown",
   "metadata": {},
   "source": [
    "It seems to exceed the maximum recursion depth for integer arrays of length $2^{12}$. We'll now edit the interlacing function to be non-recursive so we do not overflow the call stack."
   ]
  },
  {
   "cell_type": "markdown",
   "metadata": {},
   "source": [
    "**(Non-recursive) interlace function:** This function is the same as the recursive interlace function in terms of allowable arguments. To alter the function to be non-recursive, we use two variables ```j1``` and ```j2``` to keep track of the number of elements from ```list1``` and ```list2``` respectively which have already been interlaced into ```alist```. For each comparison we increment the suitable ```j``` variable by one until the list is exhausted."
   ]
  },
  {
   "cell_type": "code",
   "execution_count": 9,
   "metadata": {},
   "outputs": [],
   "source": [
    "#Interlacing function (non-recursive)\n",
    "def interlace_adapted(list1, list2):\n",
    "    if type(list1) == list and type(list2) == list: #designed to work for lists\n",
    "        alist = [] #new empty list to hold the interlaced elements\n",
    "        if (len(list1) == 0):\n",
    "            return list2 #return second list if first list empty\n",
    "        elif (len(list2) == 0):\n",
    "            return list1 #return first list if second list empty\n",
    "        else:\n",
    "            j1 = 0\n",
    "            j2 = 0 #index holders for j1 and j2 respectively\n",
    "            while j1 < len(list1) and j2 < len(list2): #repeats iteration until one of lists exhausted\n",
    "                if list1[j1] < list2[j2]: #if j1-th element in list1 is smallest...\n",
    "                    alist.append(list1[j1]) #...add it to alist...\n",
    "                    j1 += 1 #...and for further comparisons we will consider the subsequent element in list1\n",
    "                else: #if j2-th element in list2 is smallest, repeat above process for list2\n",
    "                    alist.append(list2[j2])\n",
    "                    j2 += 1\n",
    "            alist += list1[j1:] + list2[j2:] #append alist with remainder of both lists (one of which will be non-empty)\n",
    "            return alist #alist is interlaced\n",
    "    \n",
    "    else:\n",
    "        return 'Error: arguments must be lists'"
   ]
  },
  {
   "cell_type": "markdown",
   "metadata": {},
   "source": [
    "**Testing:**"
   ]
  },
  {
   "cell_type": "code",
   "execution_count": 10,
   "metadata": {},
   "outputs": [
    {
     "name": "stdout",
     "output_type": "stream",
     "text": [
      "test6 =  [690, 188, 24, 67, 355, 348, 592, 884]\n",
      "test7 =  [275, 701, 142, 681, 243, 37, 222, 677]\n",
      "[275, 690, 188, 24, 67, 355, 348, 592, 701, 142, 681, 243, 37, 222, 677, 884]\n"
     ]
    }
   ],
   "source": [
    "#test case\n",
    "size_diff = np.random.randint(-5,5) #also will test if it works for lists of different sizes\n",
    "test6 = random.sample(range(1,10**3),2**3)\n",
    "test7 = random.sample(range(1,10**3),2**3+size_diff)\n",
    "print('test6 = ',test6)\n",
    "print('test7 = ',test7)\n",
    "print(interlace_adapted(test6,test7))"
   ]
  },
  {
   "cell_type": "markdown",
   "metadata": {},
   "source": [
    "We will update the ```SortMERGE()``` function. The sole change is switching to the non-recursive ```interlace_adapted()``` function above."
   ]
  },
  {
   "cell_type": "code",
   "execution_count": 11,
   "metadata": {},
   "outputs": [],
   "source": [
    "#mergesort function\n",
    "def SortMERGE(a):\n",
    "    if type(a) == np.ndarray:\n",
    "        a = a.tolist() #need to convert arrays to lists for interlacing function to work\n",
    "    if type(a) == list:\n",
    "        n = len(a)\n",
    "        if n == 1:\n",
    "            return a #re-return the list if it contains only one element\n",
    "        else:\n",
    "            m = int(np.floor(n/2))\n",
    "            return interlace_adapted(SortMERGE(a[0:m]),SortMERGE(a[m:n])) #recursive part - interlace first half of list with the second half\n",
    "            \n",
    "    else:\n",
    "        return 'Error: arguments must be lists'"
   ]
  },
  {
   "cell_type": "markdown",
   "metadata": {},
   "source": [
    "**Testing:**"
   ]
  },
  {
   "cell_type": "code",
   "execution_count": 12,
   "metadata": {},
   "outputs": [
    {
     "name": "stdout",
     "output_type": "stream",
     "text": [
      "[666, 1084, 1199, 1220, 1316, 1433, 1458, 1541, 1558, 1845]\n"
     ]
    }
   ],
   "source": [
    "#test case\n",
    "#visible by eye - arrays up to 100 in size\n",
    "test8 = np.array(random.sample(range(0,2000),10))\n",
    "print(SortMERGE(test8))\n",
    "\n",
    "#for larger arrays\n",
    "test8 = np.array(random.sample(range(0,10000),1000))\n",
    "for l in range(2,len(test8)):\n",
    "    if test8[l] < SortINSR(test8)[:l-1].max() or test8[l] < test8[l-1]:\n",
    "        print('whoops') #should have no output if correct"
   ]
  },
  {
   "cell_type": "markdown",
   "metadata": {},
   "source": [
    "How does it compare to the recursive interlacing function in terms of achieveable list length?"
   ]
  },
  {
   "cell_type": "code",
   "execution_count": 13,
   "metadata": {},
   "outputs": [
    {
     "data": {
      "text/plain": [
       "0.9773085599999831"
      ]
     },
     "execution_count": 13,
     "metadata": {},
     "output_type": "execute_result"
    }
   ],
   "source": [
    "#timed case of size 2^18\n",
    "import timeit\n",
    "\n",
    "test9 = random.sample(range(0,2**20),2**18)\n",
    "starttime = timeit.default_timer() #restart timer\n",
    "result = SortMERGE(test9)\n",
    "runtime = timeit.default_timer() - starttime #calulate runtime\n",
    "runtime"
   ]
  },
  {
   "cell_type": "markdown",
   "metadata": {},
   "source": [
    "The test case runs, so we appear to have overcome recursion depth. In the subsequent task we will exploit this to investigate the run time of the mergesort algorithm for random arrays of integers up to $2^{20}$ in length."
   ]
  },
  {
   "cell_type": "markdown",
   "metadata": {},
   "source": [
    "## Task 4 - runtime"
   ]
  },
  {
   "cell_type": "code",
   "execution_count": 14,
   "metadata": {},
   "outputs": [],
   "source": [
    "#timing\n",
    "max_pow = 20\n",
    "sizesMERGE = np.array([2**i for i in range(1,max_pow+1)]) #array of powers of 2 up to max desired power"
   ]
  },
  {
   "cell_type": "markdown",
   "metadata": {},
   "source": [
    "To smoothen our results, for each power of $2$ we run five times and take an average for the final runtime. With the exception of $2^1$, which is so small that we average over $10,000$ runs."
   ]
  },
  {
   "cell_type": "code",
   "execution_count": 15,
   "metadata": {
    "scrolled": true
   },
   "outputs": [
    {
     "name": "stdout",
     "output_type": "stream",
     "text": [
      "[2.175594099975342e-06, 6.215599989900511e-06, 1.2669800014464272e-05, 2.7095199993709684e-05, 5.7104599989088456e-05, 0.00012446560000398677, 0.0002624828000080015, 0.0005648834000226089, 0.0011863184000048931, 0.00250384999999369, 0.0052762078000114345, 0.011067353599992202, 0.023440521800011993, 0.048708507400010606, 0.10364681040000505, 0.21366818039999771, 0.47014778240001076, 0.9756239602000051, 2.1982883912000033, 4.476444912600004]\n"
     ]
    }
   ],
   "source": [
    "#merge sort\n",
    "runtimesMERGE = [np.float32(0.0)] * len(sizesMERGE) #stores runtimes\n",
    "\n",
    "j = 0\n",
    "for i in sizesMERGE: #for each power of 2...\n",
    "    if i == 2:\n",
    "        repeat = 10**4\n",
    "    else:\n",
    "        repeat = 5\n",
    "    for k in range(repeat):\n",
    "        A = random.sample(range(0,i*2**3),i) #generate random list\n",
    "        starttime = timeit.default_timer() #restart timer\n",
    "        resultMERGE = SortMERGE(A) #perform sorting algorithm\n",
    "        runtimesMERGE[j] += timeit.default_timer() - starttime #calulate runtime\n",
    "    runtimesMERGE[j] = runtimesMERGE[j]/repeat\n",
    "    j = j + 1\n",
    "\n",
    "print(runtimesMERGE)    "
   ]
  },
  {
   "cell_type": "markdown",
   "metadata": {},
   "source": [
    "Insertion sort takes much longer, so we will adjust our max desired power to $16$ so the code is executed in a reasonable time. As above, we run $2^1$ length $10,000$ times and larger lengths thereafter five times, however for length $2^{16}$ we only run once due to its large runtime (in the ballpark of $160s$)."
   ]
  },
  {
   "cell_type": "code",
   "execution_count": 16,
   "metadata": {},
   "outputs": [
    {
     "name": "stdout",
     "output_type": "stream",
     "text": [
      "[6.752075991585116e-07, 1.4211999996405212e-06, 2.5769999865588035e-06, 7.405799965454207e-06, 2.8095600009692133e-05, 0.0001032023999869125, 0.00046645200002330965, 0.001895551200027512, 0.007725339000035092, 0.03246548839999832, 0.13364746259999266, 0.535838488399986, 2.2004971465999916, 8.96522726400001, 38.35076225359999, 152.36277569899994]\n"
     ]
    }
   ],
   "source": [
    "#insertion method\n",
    "max_pow = 16\n",
    "sizesINSR = np.array([2**i for i in range(1,max_pow+1)]) #array of powers of 2\n",
    "\n",
    "runtimesINSR = [np.float32(0.0)] * len(sizesINSR) #stores runtimes\n",
    "\n",
    "j = 0\n",
    "for i in sizesINSR: #for each power of 2...\n",
    "    if i == 2:\n",
    "        repeat = 10**4\n",
    "    elif i > 2**15+1:\n",
    "        repeat = 1\n",
    "    else:\n",
    "        repeat = 5\n",
    "    for k in range(repeat):\n",
    "        A = random.sample(range(0,i*2**3),i) #generate random list\n",
    "        starttime = timeit.default_timer() #restart timer\n",
    "        resultINSR = SortINSR(A) #perform sorting algorithm\n",
    "        runtimesINSR[j] += timeit.default_timer() - starttime #calulate runtime\n",
    "    runtimesINSR[j] = runtimesINSR[j]/repeat\n",
    "    j = j + 1\n",
    "\n",
    "print(runtimesINSR)    "
   ]
  },
  {
   "cell_type": "code",
   "execution_count": 17,
   "metadata": {},
   "outputs": [
    {
     "data": {
      "text/plain": [
       "403.5128685139915"
      ]
     },
     "execution_count": 17,
     "metadata": {},
     "output_type": "execute_result"
    }
   ],
   "source": [
    "#rough gague on total runtime for insertion sort - ideally keeping this below 10 minutes\n",
    "total_time = 10000*runtimesINSR[0] + runtimesINSR[-1]\n",
    "for l in range(1,len(runtimesINSR)-1):\n",
    "    total_time += 5*runtimesINSR[l]\n",
    "total_time"
   ]
  },
  {
   "cell_type": "markdown",
   "metadata": {},
   "source": [
    "Save our runtimes to csv files"
   ]
  },
  {
   "cell_type": "code",
   "execution_count": 18,
   "metadata": {},
   "outputs": [
    {
     "name": "stdout",
     "output_type": "stream",
     "text": [
      "(16,)\n",
      "(20,)\n"
     ]
    }
   ],
   "source": [
    "print(np.shape(runtimesINSR))\n",
    "print(np.shape(runtimesMERGE))"
   ]
  },
  {
   "cell_type": "code",
   "execution_count": 19,
   "metadata": {},
   "outputs": [],
   "source": [
    "np.savetxt('./insertion_performance.csv', runtimesINSR, delimiter=\",\")  \n",
    "np.savetxt('./mergesort_performance.csv', runtimesMERGE, delimiter=\",\")  "
   ]
  },
  {
   "cell_type": "markdown",
   "metadata": {},
   "source": [
    "## Task 5 - empirical analysis of computational complexity"
   ]
  },
  {
   "cell_type": "code",
   "execution_count": 20,
   "metadata": {},
   "outputs": [
    {
     "name": "stdout",
     "output_type": "stream",
     "text": [
      "[6.75207599e-07 1.42120000e-06 2.57699999e-06 7.40579997e-06\n",
      " 2.80956000e-05 1.03202400e-04 4.66452000e-04 1.89555120e-03\n",
      " 7.72533900e-03 3.24654884e-02 1.33647463e-01 5.35838488e-01\n",
      " 2.20049715e+00 8.96522726e+00 3.83507623e+01 1.52362776e+02]\n",
      "[2.17559410e-06 6.21559999e-06 1.26698000e-05 2.70952000e-05\n",
      " 5.71046000e-05 1.24465600e-04 2.62482800e-04 5.64883400e-04\n",
      " 1.18631840e-03 2.50385000e-03 5.27620780e-03 1.10673536e-02\n",
      " 2.34405218e-02 4.87085074e-02 1.03646810e-01 2.13668180e-01\n",
      " 4.70147782e-01 9.75623960e-01 2.19828839e+00 4.47644491e+00]\n"
     ]
    }
   ],
   "source": [
    "#reload runtime data\n",
    "insertion_speed = np.genfromtxt('insertion_performance.csv')\n",
    "mergesort_speed = np.genfromtxt('mergesort_performance.csv')\n",
    "print(insertion_speed)\n",
    "print(mergesort_speed)"
   ]
  },
  {
   "cell_type": "code",
   "execution_count": 21,
   "metadata": {},
   "outputs": [
    {
     "data": {
      "image/png": "[encoded data removed]",
      "text/plain": [
       "<Figure size 864x576 with 1 Axes>"
      ]
     },
     "metadata": {
      "needs_background": "light"
     },
     "output_type": "display_data"
    }
   ],
   "source": [
    "#plotting\n",
    "plt.rcParams.update({'font.size': 22})\n",
    "\n",
    "plt.figure(figsize=(12, 8))\n",
    "\n",
    "plt.plot(sizesINSR, [i for i in insertion_speed], \"-ks\", label=r\"Computed runtime (Insertion)\", markersize=10, markerfacecolor=(0, 0.447, 0.741, 1))\n",
    "plt.plot(sizesMERGE, [i for i in mergesort_speed], \"-ko\", label=r\"Computed runtime (Merge Sort)\", markersize=10, markerfacecolor=(0.85, 0.325, 0.098, 1))\n",
    "\n",
    "plt.plot(sizesINSR, 1e-6*0.05*np.power(sizesINSR, 2.0), \"--b\", label=r\"$K_1 \\, n^2$\")\n",
    "plt.plot(sizesMERGE, 1e-6*0.5*sizesMERGE*np.log(sizesMERGE), \"--r\", label=r\"$K_2 \\, n \\log(n)$\")\n",
    "\n",
    "plt.legend(loc=\"upper left\")\n",
    "\n",
    "plt.xlabel(r\"$n$\")\n",
    "plt.ylabel(r\"time $(s)$\")\n",
    "plt.xscale(\"log\")\n",
    "plt.yscale(\"log\")\n",
    "plt.ylim([1e-7, 1e3])\n",
    "plt.grid()\n",
    "plt.show()"
   ]
  },
  {
   "cell_type": "markdown",
   "metadata": {},
   "source": [
    "How do our run times compare to theoretical expectations?\n",
    "\n",
    "**Insertion sort:** The worst-case theoretical complexity for the insertion algorithm is $F(n) \\sim \\mathcal{O}(n^2)$, arising from the fact that for all $n$ elements in our array we make up to $n - 1$ comparisons. Our run times for insertion sort scale in a similar fashion to $K_1 \\, n^2$, with $K_1 = 5 \\times 10^{-8}$ independent of $n$. This indicates that the complexity of our insertion sorting algorithm is $F(n) \\sim \\mathcal{O}(n^2)$, matching the theoretical expectations.\n",
    "\n",
    "**Merge sort:** Despite changing the ```interlace_adapted()``` function to be iterative rather than recursive, the theoretical complexity of the merge sort algorithm remains at $F(n) \\sim \\mathcal{O}(n \\log_2{}n)$. Our ```SortMERGE()``` function is still recursive with number of levels $L$. If we suppose our list size $n$ is a power of $2$, the number of recursion levels L for a list of size $n$ satisfies $n = 2^L$, so $L = \\log_2{n}$. With regards to the complexity of ```interlace_adapted()```, at level $m$ in the recursion there are $2 m$ sub-problems each of size $n/2 m$ (best case), or size $(2 n - 1)/2 m$ (worst case). Hence, the complexity of each level of the recursion is $\\sim \\mathcal{O}(n)$. This gives us a total complexity of $F(n) \\sim \\mathcal{O}(n \\log_2{}n)$ as desired. \\\n",
    "Our run times for the mergesort algorithm scale in a similar fashion to $K_2 \\, n \\log{}n$, with $K_2 = 5 \\times 10^{-7}$ independent of $n$. This indicates that the complexity of our insertion sorting algorithm is $F(n) \\sim \\mathcal{O}(n \\log{}n)$, matching the theoretical expectations."
   ]
  },
  {
   "cell_type": "code",
   "execution_count": null,
   "metadata": {},
   "outputs": [],
   "source": []
  }
 ],
 "metadata": {
  "kernelspec": {
   "display_name": "Python 3 (ipykernel)",
   "language": "python",
   "name": "python3"
  },
  "language_info": {
   "codemirror_mode": {
    "name": "ipython",
    "version": 3
   },
   "file_extension": ".py",
   "mimetype": "text/x-python",
   "name": "python",
   "nbconvert_exporter": "python",
   "pygments_lexer": "ipython3",
   "version": "3.9.12"
  }
 },
 "nbformat": 4,
 "nbformat_minor": 2
}
