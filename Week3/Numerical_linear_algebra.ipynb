{
 "cells": [
  {
   "cell_type": "code",
   "execution_count": 1,
   "id": "9ec32ab5",
   "metadata": {},
   "outputs": [],
   "source": [
    "# Import libraries\n",
    "import numpy as np\n",
    "from numpy import linalg as LA\n",
    "\n",
    "import random\n",
    "import time\n",
    "from IPython import display\n",
    "import matplotlib.animation as animation\n",
    "import matplotlib.pyplot as plt\n",
    "plt.rcParams['text.usetex'] = True\n",
    "\n",
    "import seaborn as sns"
   ]
  },
  {
   "cell_type": "markdown",
   "id": "c0e25ef9",
   "metadata": {},
   "source": [
    "Backward substitution"
   ]
  },
  {
   "cell_type": "code",
   "execution_count": 5,
   "id": "e237815f",
   "metadata": {},
   "outputs": [],
   "source": [
    "def backwardsubstitution(U, b):\n",
    "    # function which takes an upper triangular matrix U (size n x n) and vector b (size n) and returns vector x \n",
    "    # (size x) satisfying Ux = b\n",
    "    n = len(b)\n",
    "    x = np.zeros((n))\n",
    "    x[-1] = b[-1]/U[-1,-1]\n",
    "    for i in range(n-2,-1,-1):\n",
    "        summ = 0\n",
    "        for j in range(i+1,n):\n",
    "            summ += U[i,j]*x[j]\n",
    "        x[i] = (1/U[i,i])*(b[i] - summ)\n",
    "    \n",
    "    return x"
   ]
  },
  {
   "cell_type": "code",
   "execution_count": 6,
   "id": "63f7c985",
   "metadata": {},
   "outputs": [
    {
     "data": {
      "text/plain": [
       "array([5., 1., 2.])"
      ]
     },
     "execution_count": 6,
     "metadata": {},
     "output_type": "execute_result"
    }
   ],
   "source": [
    "U0 = np.matrix([[1,2,3],[0,1,1],[0,0,5]])\n",
    "b0 = np.array([13,3,10])\n",
    "x0 = backwardsubstitution(U0, b0)\n",
    "\n",
    "x0"
   ]
  },
  {
   "cell_type": "markdown",
   "id": "896a3487",
   "metadata": {},
   "source": [
    "Forward substitution"
   ]
  },
  {
   "cell_type": "code",
   "execution_count": 12,
   "id": "5063e66d",
   "metadata": {},
   "outputs": [],
   "source": [
    "def forwardsubstitution(L, b):\n",
    "    # function which takes a lower triangular matrix L (size n x n) and vector b (size n) and returns vector x \n",
    "    # (size x) satisfying Lx = b\n",
    "    n = len(b)\n",
    "    x = np.zeros((n))\n",
    "    x[0] = b[0]/L[0,0]\n",
    "    for i in range(1,n):\n",
    "        summ = 0\n",
    "        for j in range(0,i):\n",
    "            summ += L[i,j]*x[j]\n",
    "        x[i] = (1/L[i,i])*(b[i] - summ)\n",
    "    \n",
    "    return x"
   ]
  },
  {
   "cell_type": "code",
   "execution_count": 13,
   "id": "16575446",
   "metadata": {},
   "outputs": [
    {
     "data": {
      "text/plain": [
       "array([2., 5., 3.])"
      ]
     },
     "execution_count": 13,
     "metadata": {},
     "output_type": "execute_result"
    }
   ],
   "source": [
    "L = np.array([[5,0,0],[2,3,0],[1,-2,4]])\n",
    "b = np.array([10,19,4])\n",
    "x0 = forwardsubstitution(L, b)\n",
    "\n",
    "x0"
   ]
  },
  {
   "cell_type": "markdown",
   "id": "bf2f3ea0",
   "metadata": {},
   "source": [
    "Crout's algorithm for LU decomposition"
   ]
  },
  {
   "cell_type": "code",
   "execution_count": null,
   "id": "5c3bd1f2",
   "metadata": {},
   "outputs": [],
   "source": []
  }
 ],
 "metadata": {
  "kernelspec": {
   "display_name": "Python 3 (ipykernel)",
   "language": "python",
   "name": "python3"
  },
  "language_info": {
   "codemirror_mode": {
    "name": "ipython",
    "version": 3
   },
   "file_extension": ".py",
   "mimetype": "text/x-python",
   "name": "python",
   "nbconvert_exporter": "python",
   "pygments_lexer": "ipython3",
   "version": "3.9.12"
  }
 },
 "nbformat": 4,
 "nbformat_minor": 5
}
