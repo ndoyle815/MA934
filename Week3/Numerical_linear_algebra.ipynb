{
 "cells": [
  {
   "cell_type": "code",
   "execution_count": 15,
   "id": "9ec32ab5",
   "metadata": {},
   "outputs": [],
   "source": [
    "# Import libraries\n",
    "import numpy as np\n",
    "from numpy import linalg as la\n",
    "\n",
    "import random\n",
    "import time\n",
    "from IPython import display\n",
    "import matplotlib.animation as animation\n",
    "import matplotlib.pyplot as plt\n",
    "plt.rcParams['text.usetex'] = True\n",
    "\n",
    "import seaborn as sns"
   ]
  },
  {
   "cell_type": "markdown",
   "id": "c0e25ef9",
   "metadata": {},
   "source": [
    "Backward substitution"
   ]
  },
  {
   "cell_type": "code",
   "execution_count": 16,
   "id": "e237815f",
   "metadata": {},
   "outputs": [],
   "source": [
    "def backwardsubstitution(U, b):\n",
    "    # function which takes an upper triangular matrix U (size n x n) and vector b (size n) and returns vector x \n",
    "    # (size x) satisfying Ux = b\n",
    "    n = len(b)\n",
    "    x = np.zeros((n))\n",
    "    x[-1] = b[-1]/U[-1,-1]\n",
    "    for i in range(n-2,-1,-1):\n",
    "        summ = 0\n",
    "        for j in range(i+1,n):\n",
    "            summ += U[i,j]*x[j]\n",
    "        x[i] = (1/U[i,i])*(b[i] - summ)\n",
    "    \n",
    "    return x"
   ]
  },
  {
   "cell_type": "code",
   "execution_count": 17,
   "id": "63f7c985",
   "metadata": {},
   "outputs": [
    {
     "data": {
      "text/plain": [
       "array([5., 1., 2.])"
      ]
     },
     "execution_count": 17,
     "metadata": {},
     "output_type": "execute_result"
    }
   ],
   "source": [
    "U0 = np.matrix([[1,2,3],[0,1,1],[0,0,5]])\n",
    "b0 = np.array([13,3,10])\n",
    "x0 = backwardsubstitution(U0, b0)\n",
    "\n",
    "x0"
   ]
  },
  {
   "cell_type": "markdown",
   "id": "896a3487",
   "metadata": {},
   "source": [
    "Forward substitution"
   ]
  },
  {
   "cell_type": "code",
   "execution_count": 18,
   "id": "5063e66d",
   "metadata": {},
   "outputs": [],
   "source": [
    "def forwardsubstitution(L, b):\n",
    "    # function which takes a lower triangular matrix L (size n x n) and vector b (size n) and returns vector x \n",
    "    # (size x) satisfying Lx = b\n",
    "    n = len(b)\n",
    "    x = np.zeros((n))\n",
    "    x[0] = b[0]/L[0,0]\n",
    "    for i in range(1,n):\n",
    "        summ = 0\n",
    "        for j in range(0,i):\n",
    "            summ += L[i,j]*x[j]\n",
    "        x[i] = (1/L[i,i])*(b[i] - summ)\n",
    "    \n",
    "    return x"
   ]
  },
  {
   "cell_type": "code",
   "execution_count": 19,
   "id": "16575446",
   "metadata": {},
   "outputs": [
    {
     "data": {
      "text/plain": [
       "array([2., 5., 3.])"
      ]
     },
     "execution_count": 19,
     "metadata": {},
     "output_type": "execute_result"
    }
   ],
   "source": [
    "L = np.array([[5,0,0],[2,3,0],[1,-2,4]])\n",
    "b = np.array([10,19,4])\n",
    "x0 = forwardsubstitution(L, b)\n",
    "\n",
    "x0"
   ]
  },
  {
   "cell_type": "markdown",
   "id": "bf2f3ea0",
   "metadata": {},
   "source": [
    "Crout's algorithm for LU decomposition"
   ]
  },
  {
   "cell_type": "code",
   "execution_count": 20,
   "id": "5c3bd1f2",
   "metadata": {},
   "outputs": [],
   "source": [
    "def Crout(A):\n",
    "    # function which takes in nxn matrix A and evaluates its LU decomposition\n",
    "    # NB: without partial pivoting (for now)\n",
    "    n = len(A[:,0])\n",
    "    \n",
    "    L = np.identity(n)\n",
    "    U = np.zeros((n,n))\n",
    "    \n",
    "    for j in range(0,n): # loop through columns\n",
    "        for i in range(j+1):\n",
    "            U[i,j] = A[i,j] - np.sum([L[i,k]*U[k,j] for k in range(i)])\n",
    "        for i in range(j+1,n):\n",
    "            L[i,j] = (A[i,j] - np.sum([L[i,k]*U[k,j] for k in range(j)]))/U[j,j]\n",
    "            \n",
    "    return L, U"
   ]
  },
  {
   "cell_type": "code",
   "execution_count": 21,
   "id": "c711755e",
   "metadata": {},
   "outputs": [],
   "source": [
    "testA = np.array([[1, 2, 4], [3, 8, 14], [2, 6, 13]])\n",
    "\n",
    "decomp = Crout(testA)"
   ]
  },
  {
   "cell_type": "code",
   "execution_count": 22,
   "id": "2980caa4",
   "metadata": {},
   "outputs": [
    {
     "data": {
      "text/plain": [
       "(array([[1., 0., 0.],\n",
       "        [3., 1., 0.],\n",
       "        [2., 1., 1.]]),\n",
       " array([[1., 2., 4.],\n",
       "        [0., 2., 2.],\n",
       "        [0., 0., 3.]]))"
      ]
     },
     "execution_count": 22,
     "metadata": {},
     "output_type": "execute_result"
    }
   ],
   "source": [
    "decomp"
   ]
  },
  {
   "cell_type": "code",
   "execution_count": 24,
   "id": "406b5bac",
   "metadata": {
    "scrolled": true
   },
   "outputs": [
    {
     "name": "stdout",
     "output_type": "stream",
     "text": [
      "[[1]]\n",
      "1.0\n",
      "\n",
      "\n",
      "[[1 2]\n",
      " [3 8]]\n",
      "1.9999999999999998\n",
      "\n",
      "\n",
      "[[ 1  2  4]\n",
      " [ 3  8 14]\n",
      " [ 2  6 13]]\n",
      "6.0\n",
      "\n",
      "\n"
     ]
    }
   ],
   "source": [
    "# checking the invertibility of the submatrices of A\n",
    "n = 3\n",
    "for j in range(1,n+1):\n",
    "    print(testA[:j,:j])\n",
    "    print(la.det(testA[:j,:j]))\n",
    "    print('\\n')"
   ]
  },
  {
   "cell_type": "code",
   "execution_count": 90,
   "id": "15deed9d",
   "metadata": {},
   "outputs": [],
   "source": [
    "# partial pivoting\n",
    "def PivotCrout(A):\n",
    "    # function which takes in nxn matrix A and evaluates its LU decomposition\n",
    "    # NB: without partial pivoting (for now)\n",
    "    n = len(A[:,0])\n",
    "    print(A)\n",
    "    L = np.identity(n)\n",
    "    U = np.zeros((n,n))\n",
    "    P = np.identity(n)\n",
    "\n",
    "    for j in range(1,n):\n",
    "        print(j)\n",
    "        print(A[:j,:j])\n",
    "        print('\\n')\n",
    "        if la.det(A[:j,:j]) == 0:\n",
    "            rowswap = np.argmax([A[k,k] for k in range(j,n)])\n",
    "            P_new = np.identity(n)\n",
    "            P_new[j-1,j-1] = 0\n",
    "            P_new[j+rowswap,j+rowswap] = 0\n",
    "            P_new[j+rowswap,j-1] = 1\n",
    "            P_new[j-1,j+rowswap] = 1\n",
    "            A = np.matmul(P_new,A)\n",
    "            P = np.matmul(P_new,P)\n",
    "            print(P_new)\n",
    "    \n",
    "    for j in range(0,n): # loop through columns\n",
    "        for i in range(j+1):\n",
    "            U[i,j] = A[i,j] - np.sum([L[i,k]*U[k,j] for k in range(i)])\n",
    "        for i in range(j+1,n):\n",
    "            L[i,j] = (A[i,j] - np.sum([L[i,k]*U[k,j] for k in range(j)]))/U[j,j]\n",
    "            \n",
    "    return np.array([P, L, U])"
   ]
  },
  {
   "cell_type": "code",
   "execution_count": 91,
   "id": "82d17c87",
   "metadata": {},
   "outputs": [
    {
     "name": "stdout",
     "output_type": "stream",
     "text": [
      "[[ 1  2  2 -1]\n",
      " [ 1  2  2 -1]\n",
      " [ 3  2 -1  6]\n",
      " [ 5  2  7 -3]]\n",
      "1\n",
      "[[1]]\n",
      "\n",
      "\n",
      "2\n",
      "[[1 2]\n",
      " [1 2]]\n",
      "\n",
      "\n",
      "[[1. 0. 0. 0.]\n",
      " [0. 0. 1. 0.]\n",
      " [0. 1. 0. 0.]\n",
      " [0. 0. 0. 1.]]\n",
      "3\n",
      "[[ 1.  2.  2.]\n",
      " [ 3.  2. -1.]\n",
      " [ 1.  2.  2.]]\n",
      "\n",
      "\n",
      "[[1. 0. 0. 0.]\n",
      " [0. 1. 0. 0.]\n",
      " [0. 0. 0. 1.]\n",
      " [0. 0. 1. 0.]]\n"
     ]
    }
   ],
   "source": [
    "testA = np.random.randint(-10,10,size=(10,10))\n",
    "singularA = np.array([[1,2,2,-1],[1,2,2,-1],[3,2,-1,6],[5,2,7,-3]])\n",
    "\n",
    "decomp = PivotCrout(singularA)"
   ]
  },
  {
   "cell_type": "code",
   "execution_count": 93,
   "id": "d90cb076",
   "metadata": {},
   "outputs": [
    {
     "name": "stdout",
     "output_type": "stream",
     "text": [
      "[[ 1.  2.  2. -1.]\n",
      " [ 3.  2. -1.  6.]\n",
      " [ 5.  2.  7. -3.]\n",
      " [ 1.  2.  2. -1.]]\n",
      "[[ 1.  2.  2. -1.]\n",
      " [ 3.  2. -1.  6.]\n",
      " [ 5.  2.  7. -3.]\n",
      " [ 1.  2.  2. -1.]]\n"
     ]
    }
   ],
   "source": [
    "P = decomp[0,:,:]\n",
    "L = decomp[1,:,:]\n",
    "U = decomp[2,:,:]\n",
    "\n",
    "print(P@singularA)\n",
    "print(L@U)"
   ]
  },
  {
   "cell_type": "code",
   "execution_count": null,
   "id": "f756006f",
   "metadata": {},
   "outputs": [],
   "source": [
    "np.shape()"
   ]
  }
 ],
 "metadata": {
  "kernelspec": {
   "display_name": "Python 3 (ipykernel)",
   "language": "python",
   "name": "python3"
  },
  "language_info": {
   "codemirror_mode": {
    "name": "ipython",
    "version": 3
   },
   "file_extension": ".py",
   "mimetype": "text/x-python",
   "name": "python",
   "nbconvert_exporter": "python",
   "pygments_lexer": "ipython3",
   "version": "3.9.12"
  }
 },
 "nbformat": 4,
 "nbformat_minor": 5
}
