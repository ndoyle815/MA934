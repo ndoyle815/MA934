{
 "cells": [
  {
   "cell_type": "code",
   "execution_count": null,
   "id": "334debbd",
   "metadata": {},
   "outputs": [],
   "source": [
    "# Import libraries\n",
    "import numpy as np\n",
    "from numpy import linalg as la\n",
    "\n",
    "import random\n",
    "import time\n",
    "\n",
    "import matplotlib.pyplot as plt\n",
    "plt.rcParams['text.usetex'] = True"
   ]
  },
  {
   "cell_type": "markdown",
   "id": "fe308763",
   "metadata": {},
   "source": [
    "**Standard Search**"
   ]
  },
  {
   "cell_type": "code",
   "execution_count": null,
   "id": "ccf424b2",
   "metadata": {},
   "outputs": [],
   "source": [
    "def StandardSearch(f, triple, tol, search_min=True, parabolic_interp=False):\n",
    "    # function which searches for extrema of f(x) via a bracketing-and-bisection method\n",
    "    # triple = (a c b) must bracket the minimum such that f(c) < f(a) and f(c) < f(b)\n",
    "    \n",
    "    pm = 1\n",
    "    if search_min == False:\n",
    "        pm = -1 # if we wish to search for a maximum of f(x) we must find minimum of -f(x)\n",
    "    \n",
    "    [a, c, b] = triple\n",
    "\n",
    "    if pm*f(c) >= pm*f(a) and pm*f(c) >= pm*f(b): # sanity check input is bracketed\n",
    "        return 'triple must be bracketed ie. f(c) < f(a) and f(c) < f(b)'\n",
    "        \n",
    "    if parabolic_interp == True:\n",
    "        while b - c > tol:\n",
    "            # parabolic interpolation\n",
    "            x = b-0.5*((b-a)**2*(f(b)-f(c))-(b-c)**2*(f(b)-f(a)))/((b-a)*(f(b)-f(c))-(b-c)*(f(b)-f(a)))\n",
    "            trial = f(x)\n",
    "            \n",
    "            if x > c:\n",
    "                if pm*f(c) < pm*f(a) and pm*f(c) < pm*trial: # case 1A\n",
    "                    [a, c, b] = [a, c, x]\n",
    "                \n",
    "                elif pm*trial < pm*f(c) and pm*trial < pm*f(b): # case 1B\n",
    "                    [a, c, b] = [c, x, b]\n",
    "            \n",
    "            elif x < c:\n",
    "                if pm*trial < pm*f(a) and pm*trial < pm*f(c): # case 2A\n",
    "                    [a, c, b] = [a, x, c]\n",
    "                \n",
    "                elif pm*f(c) < pm*trial and pm*f(c) < pm*f(b): # case 2B\n",
    "                    [a, c, b] = [x, c, b]\n",
    "            \n",
    "            elif x == c:\n",
    "                [a, c, b] = [a, x, c]\n",
    "            \n",
    "        return c\n",
    "\n",
    "    \n",
    "    else:\n",
    "        while b - c > tol:\n",
    "            x1 = (c - a)/2\n",
    "            x2 = (b - c)/2\n",
    "            trial1 = f(x1)\n",
    "            trial2 = f(x2)\n",
    "                \n",
    "            if pm*trial1 < pm*f(a) and pm*trial1 < pm*f(c): # case 1\n",
    "                [a, c, b] = [a, x1, c]\n",
    "                    \n",
    "            elif pm*f(c) < pm*trial1 and pm*f(c) < pm*trial2: # case 2\n",
    "                [a, c, b] = [x1, c, x2]\n",
    "                \n",
    "            elif pm*trial2 < pm*f(c) and pm*trial2 < pm*f(b): # case 3\n",
    "                [a, c, b] = [c, x2, b]\n",
    "                \n",
    "        return c"
   ]
  },
  {
   "cell_type": "code",
   "execution_count": null,
   "id": "2b05ae6a",
   "metadata": {},
   "outputs": [],
   "source": [
    "def f(x):\n",
    "    return x**2 - 5*x - 11\n",
    "\n",
    "x = np.arange(-10,10,0.1)\n",
    "plt.plot(x,f(x))\n",
    "plt.grid()"
   ]
  },
  {
   "cell_type": "code",
   "execution_count": null,
   "id": "0b70d4bb",
   "metadata": {},
   "outputs": [],
   "source": [
    "x_star = StandardSearch(f,[-2,4,7],1e-2,parabolic_interp=True)\n",
    "x_star"
   ]
  },
  {
   "cell_type": "markdown",
   "id": "69ffa9c3",
   "metadata": {},
   "source": [
    "**Golden Search**"
   ]
  },
  {
   "cell_type": "code",
   "execution_count": null,
   "id": "9856c807",
   "metadata": {},
   "outputs": [],
   "source": [
    "def GoldenSearch(f, interval, tol, search_min=True):\n",
    "    # function which searches for extrema of f(x) via a bracketing-and-bisection method\n",
    "    # triple = (a c b) must bracket the minimum such that f(c) < f(a) and f(c) < f(b)\n",
    "    \n",
    "    pm = 1\n",
    "    if search_min == False:\n",
    "        pm = -1 # if we wish to search for a maximum of f(x) we must find minimum of -f(x)\n",
    "    \n",
    "    [a, b] = interval\n",
    "    \n",
    "    # choosing c (makes (c, b) the larger interval)\n",
    "    phi_p = (np.sqrt(5) + 1)/2\n",
    "    phi_m = (np.sqrt(5) - 1)/2\n",
    "    p = (b - a)/phi_p\n",
    "    c = a + p*phi_m\n",
    "\n",
    "    if pm*f(c) >= pm*f(a) and pm*f(c) >= pm*f(b): # sanity check input is bracketed\n",
    "        return 'triple must be bracketed ie. f(c) < f(a) and f(c) < f(b)'\n",
    "        \n",
    "    else:\n",
    "        while b - c > tol:\n",
    "            x = a + b - c\n",
    "            trial = f(x)\n",
    "            print(c)\n",
    "            print(x)\n",
    "            \n",
    "            if pm*f(c) < pm*f(a) and pm*f(c) < pm*trial: # case 1\n",
    "                [a, c, b] = [a, c, x]\n",
    "                \n",
    "            elif pm*trial < pm*f(c) and pm*trial < pm*f(b): # case 2\n",
    "                [a, c, b] = [c, x, b]\n",
    "                \n",
    "            \n",
    "        return c"
   ]
  },
  {
   "cell_type": "code",
   "execution_count": null,
   "id": "1c98a05e",
   "metadata": {},
   "outputs": [],
   "source": [
    "GoldenSearch(f,[1,7],1e-6)"
   ]
  },
  {
   "cell_type": "markdown",
   "id": "ad8573a3",
   "metadata": {},
   "source": [
    "**Method of Steepest Descent**"
   ]
  },
  {
   "cell_type": "code",
   "execution_count": 239,
   "id": "3f872ef2",
   "metadata": {},
   "outputs": [],
   "source": [
    "from scipy.optimize import line_search\n",
    "\n",
    "def SteepestDescent(f, df, x0, tol, use_dual=False):\n",
    "    # function designed to find the __minimum__ of f(x) taking x in R^n using method of steepest descent\n",
    "    # if you want to use dual numbers to compute grad(f) via automatic differentiation, let argument df \n",
    "    # take any input\n",
    "    \n",
    "    def line_minimiser(lamb):\n",
    "        # function which performs line minimisation of f when implemented into Standard Search\n",
    "        #global xn, vn\n",
    "        #print('\\n')\n",
    "        #print(xn)\n",
    "        #print(vn)\n",
    "        return f(xn + lamb*vn)\n",
    "    \n",
    "    xn = x0\n",
    "    vn = -df(xn)/la.norm(df(xn))\n",
    "    lamb_min = line_search(f, df, xn, vn)[0]\n",
    "    print(lamb_min)\n",
    "    \n",
    "    #lambs = np.arange(-10.0,10.01,0.01)\n",
    "    #pairs = np.zeros(101)\n",
    "    \n",
    "    while la.norm(df(xn)) > tol:\n",
    "        #print(xn)\n",
    "        #vn = -df(xn)/la.norm(df(xn))\n",
    "        #print(vn)\n",
    "        #for i in range(101):\n",
    "        #    pairs[i] = f(xn + lambs[i]*vn)\n",
    "        #lamb_min = lambs[np.argmin(pairs)]\n",
    "        #print(lamb_min)\n",
    "        #print(lamb_min*vn)\n",
    "        xn = xn + lamb_min*vn\n",
    "        print(xn)\n",
    "        print('\\n')\n",
    "        \n",
    "    return xn"
   ]
  },
  {
   "cell_type": "code",
   "execution_count": 240,
   "id": "20251e2b",
   "metadata": {},
   "outputs": [],
   "source": [
    "def f(x):\n",
    "    return x[0]**2 + 3*x[1]**2\n",
    "\n",
    "def df(x):\n",
    "    return np.array([2*x[0], 6*x[1]])"
   ]
  },
  {
   "cell_type": "code",
   "execution_count": null,
   "id": "27750782",
   "metadata": {
    "scrolled": false
   },
   "outputs": [],
   "source": [
    "SteepestDescent(f, df, np.array([2,2]), 1e0)"
   ]
  },
  {
   "cell_type": "code",
   "execution_count": null,
   "id": "1b7e25cf",
   "metadata": {},
   "outputs": [],
   "source": [
    "df([2,2])"
   ]
  },
  {
   "cell_type": "code",
   "execution_count": null,
   "id": "1cc46420",
   "metadata": {},
   "outputs": [],
   "source": [
    "arr = np.array([1,2,3,4,5,3])\n",
    "la.norm(arr)"
   ]
  },
  {
   "cell_type": "code",
   "execution_count": null,
   "id": "f3a4a45f",
   "metadata": {
    "scrolled": false
   },
   "outputs": [],
   "source": [
    "xn = np.array([2,2])\n",
    "vn = np.array([-0.31622777, -0.9486833])\n",
    "lambs = np.arange(-2.0,4.01,0.01)\n",
    "\n",
    "for i in lambs:\n",
    "    plt.scatter(i,f(xn + i*vn))"
   ]
  },
  {
   "cell_type": "code",
   "execution_count": null,
   "id": "58efeb49",
   "metadata": {},
   "outputs": [],
   "source": []
  }
 ],
 "metadata": {
  "kernelspec": {
   "display_name": "Python 3 (ipykernel)",
   "language": "python",
   "name": "python3"
  },
  "language_info": {
   "codemirror_mode": {
    "name": "ipython",
    "version": 3
   },
   "file_extension": ".py",
   "mimetype": "text/x-python",
   "name": "python",
   "nbconvert_exporter": "python",
   "pygments_lexer": "ipython3",
   "version": "3.9.12"
  }
 },
 "nbformat": 4,
 "nbformat_minor": 5
}
