{
 "cells": [
  {
   "cell_type": "code",
   "execution_count": 227,
   "id": "334debbd",
   "metadata": {},
   "outputs": [],
   "source": [
    "# Import libraries\n",
    "import numpy as np\n",
    "from numpy import linalg as la\n",
    "\n",
    "import random\n",
    "import time\n",
    "\n",
    "import matplotlib.pyplot as plt\n",
    "plt.rcParams['text.usetex'] = True"
   ]
  },
  {
   "cell_type": "markdown",
   "id": "fe308763",
   "metadata": {},
   "source": [
    "**Standard Search**"
   ]
  },
  {
   "cell_type": "code",
   "execution_count": 228,
   "id": "ccf424b2",
   "metadata": {},
   "outputs": [],
   "source": [
    "def StandardSearch(f, triple, tol, search_min=True, parabolic_interp=False):\n",
    "    # function which searches for extrema of f(x) via a bracketing-and-bisection method\n",
    "    # triple = (a c b) must bracket the minimum such that f(c) < f(a) and f(c) < f(b)\n",
    "    \n",
    "    pm = 1\n",
    "    if search_min == False:\n",
    "        pm = -1 # if we wish to search for a maximum of f(x) we must find minimum of -f(x)\n",
    "    \n",
    "    [a, c, b] = triple\n",
    "\n",
    "    if pm*f(c) >= pm*f(a) and pm*f(c) >= pm*f(b): # sanity check input is bracketed\n",
    "        return 'triple must be bracketed ie. f(c) < f(a) and f(c) < f(b)'\n",
    "        \n",
    "    if parabolic_interp == True:\n",
    "        while b - c > tol:\n",
    "            # parabolic interpolation\n",
    "            x = b-0.5*((b-a)**2*(f(b)-f(c))-(b-c)**2*(f(b)-f(a)))/((b-a)*(f(b)-f(c))-(b-c)*(f(b)-f(a)))\n",
    "            trial = f(x)\n",
    "            \n",
    "            if x > c:\n",
    "                if pm*f(c) < pm*f(a) and pm*f(c) < pm*trial: # case 1A\n",
    "                    [a, c, b] = [a, c, x]\n",
    "                \n",
    "                elif pm*trial < pm*f(c) and pm*trial < pm*f(b): # case 1B\n",
    "                    [a, c, b] = [c, x, b]\n",
    "            \n",
    "            elif x < c:\n",
    "                if pm*trial < pm*f(a) and pm*trial < pm*f(c): # case 2A\n",
    "                    [a, c, b] = [a, x, c]\n",
    "                \n",
    "                elif pm*f(c) < pm*trial and pm*f(c) < pm*f(b): # case 2B\n",
    "                    [a, c, b] = [x, c, b]\n",
    "            \n",
    "            elif x == c:\n",
    "                [a, c, b] = [a, x, c]\n",
    "            \n",
    "        return c\n",
    "\n",
    "    \n",
    "    else:\n",
    "        while b - c > tol:\n",
    "            x1 = (c - a)/2\n",
    "            x2 = (b - c)/2\n",
    "            trial1 = f(x1)\n",
    "            trial2 = f(x2)\n",
    "                \n",
    "            if pm*trial1 < pm*f(a) and pm*trial1 < pm*f(c): # case 1\n",
    "                [a, c, b] = [a, x1, c]\n",
    "                    \n",
    "            elif pm*f(c) < pm*trial1 and pm*f(c) < pm*trial2: # case 2\n",
    "                [a, c, b] = [x1, c, x2]\n",
    "                \n",
    "            elif pm*trial2 < pm*f(c) and pm*trial2 < pm*f(b): # case 3\n",
    "                [a, c, b] = [c, x2, b]\n",
    "                \n",
    "        return c"
   ]
  },
  {
   "cell_type": "code",
   "execution_count": 229,
   "id": "2b05ae6a",
   "metadata": {},
   "outputs": [
    {
     "data": {
      "image/png": "[encoded data removed]",
      "text/plain": [
       "<Figure size 432x288 with 1 Axes>"
      ]
     },
     "metadata": {
      "needs_background": "light"
     },
     "output_type": "display_data"
    }
   ],
   "source": [
    "def f(x):\n",
    "    return x**2 - 5*x - 11\n",
    "\n",
    "x = np.arange(-10,10,0.1)\n",
    "plt.plot(x,f(x))\n",
    "plt.grid()"
   ]
  },
  {
   "cell_type": "code",
   "execution_count": 230,
   "id": "0b70d4bb",
   "metadata": {},
   "outputs": [
    {
     "data": {
      "text/plain": [
       "2.5"
      ]
     },
     "execution_count": 230,
     "metadata": {},
     "output_type": "execute_result"
    }
   ],
   "source": [
    "x_star = StandardSearch(f,[-2,4,7],1e-2,parabolic_interp=True)\n",
    "x_star"
   ]
  },
  {
   "cell_type": "markdown",
   "id": "69ffa9c3",
   "metadata": {},
   "source": [
    "**Golden Search**"
   ]
  },
  {
   "cell_type": "code",
   "execution_count": 231,
   "id": "9856c807",
   "metadata": {},
   "outputs": [],
   "source": [
    "def GoldenSearch(f, interval, tol, search_min=True):\n",
    "    # function which searches for extrema of f(x) via a bracketing-and-bisection method\n",
    "    # triple = (a c b) must bracket the minimum such that f(c) < f(a) and f(c) < f(b)\n",
    "    \n",
    "    pm = 1\n",
    "    if search_min == False:\n",
    "        pm = -1 # if we wish to search for a maximum of f(x) we must find minimum of -f(x)\n",
    "    \n",
    "    [a, b] = interval\n",
    "    \n",
    "    # choosing c (makes (c, b) the larger interval)\n",
    "    phi_p = (np.sqrt(5) + 1)/2\n",
    "    phi_m = (np.sqrt(5) - 1)/2\n",
    "    p = (b - a)/phi_p\n",
    "    c = a + p*phi_m\n",
    "\n",
    "    if pm*f(c) >= pm*f(a) and pm*f(c) >= pm*f(b): # sanity check input is bracketed\n",
    "        return 'triple must be bracketed ie. f(c) < f(a) and f(c) < f(b)'\n",
    "        \n",
    "    else:\n",
    "        while b - c > tol:\n",
    "            x = a + b - c\n",
    "            trial = f(x)\n",
    "            \n",
    "            if x > c: # points {a,c,x,b} in ascending order\n",
    "                if pm*f(c) < pm*f(a) and pm*f(c) < pm*trial: # case 1\n",
    "                    [a, c, b] = [a, c, x]\n",
    "                \n",
    "                elif pm*trial < pm*f(c) and pm*trial < pm*f(b): # case 2\n",
    "                    [a, c, b] = [c, x, b]\n",
    "                    \n",
    "            else: # points {a,x,c,b} in ascending order\n",
    "                if pm*trial < pm*f(a) and pm*trial < pm*f(c): # case 1\n",
    "                    [a, c, b] = [a, x, c]\n",
    "                \n",
    "                elif pm*f(c) < pm*trial and pm*f(c) < pm*f(b): # case 2\n",
    "                    [a, c, b] = [x, c, b]\n",
    "        \n",
    "        return c"
   ]
  },
  {
   "cell_type": "code",
   "execution_count": 235,
   "id": "1c98a05e",
   "metadata": {
    "scrolled": true
   },
   "outputs": [
    {
     "data": {
      "text/plain": [
       "2.500000425353804"
      ]
     },
     "execution_count": 235,
     "metadata": {},
     "output_type": "execute_result"
    }
   ],
   "source": [
    "GoldenSearch(f,[1,7],1e-6)"
   ]
  },
  {
   "cell_type": "markdown",
   "id": "ad8573a3",
   "metadata": {},
   "source": [
    "**Method of Steepest Descent**"
   ]
  },
  {
   "cell_type": "code",
   "execution_count": 222,
   "id": "3f872ef2",
   "metadata": {},
   "outputs": [],
   "source": [
    "from scipy.optimize import line_search\n",
    "\n",
    "def SteepestDescent(f, df, x0, tol, use_dual=False):\n",
    "    # function designed to find the __minimum__ of f(x) taking x in R^n using method of steepest descent\n",
    "    # if you want to use dual numbers to compute grad(f) via automatic differentiation, let argument df \n",
    "    # take any input\n",
    "    \n",
    "    xn = x0\n",
    "    vn = -df(xn)/la.norm(df(xn))\n",
    "    print(xn)\n",
    "    print(vn)\n",
    "\n",
    "    def line_minimiser(lamb):\n",
    "        # function which performs line minimisation of f when implemented into Standard Search\n",
    "        #global xn, vn\n",
    "        return f(xn + lamb*vn)\n",
    "    \n",
    "    lamb_min = GoldenSearch(line_minimiser, [0,6], 1e-6)\n",
    "    print(lamb_min)\n",
    "    #line_minimiser = xn + lamb_min*vn\n",
    "    #print(line_minimiser)\n",
    "    #print(np.dot(df(line_minimiser),vn))\n",
    "    print('\\n')\n",
    "    \n",
    "    #while la.norm(df(xn)) > tol:\n",
    "    fig = plt.figure(figsize=(8,6))\n",
    "    for i in range(10):\n",
    "        plt.scatter(xn[0],xn[1],color='k')\n",
    "        print('xn = ', xn)\n",
    "        print('vn = ', vn)\n",
    "        print('lamb min = ', lamb_min)\n",
    "        xn = xn + lamb_min*vn\n",
    "        print('Dot = ', np.dot(df(xn),vn))\n",
    "        vn = -df(xn)/la.norm(df(xn))\n",
    "        print('xn new = ', xn)\n",
    "        print('vn new = ', vn)\n",
    "        print('%.4f ' % la.norm(df(xn)))\n",
    "        print('\\n')\n",
    "    \n",
    "    plt.xlabel('$x1$')\n",
    "    plt.xlabel('$x2$')\n",
    "    plt.grid()\n",
    "    \n",
    "    return xn"
   ]
  },
  {
   "cell_type": "code",
   "execution_count": 223,
   "id": "20251e2b",
   "metadata": {},
   "outputs": [],
   "source": [
    "def f(x):\n",
    "    return 0.5*(x[0]**2 + 4*x[1]**2)\n",
    "\n",
    "def df(x):\n",
    "    return np.array([x[0], 4*x[1]])"
   ]
  },
  {
   "cell_type": "code",
   "execution_count": 224,
   "id": "ca91262f",
   "metadata": {},
   "outputs": [
    {
     "name": "stdout",
     "output_type": "stream",
     "text": [
      "(2,)\n",
      "(2,)\n"
     ]
    },
    {
     "data": {
      "image/png": "[encoded data removed]",
      "text/plain": [
       "<Figure size 432x288 with 1 Axes>"
      ]
     },
     "metadata": {
      "needs_background": "light"
     },
     "output_type": "display_data"
    }
   ],
   "source": [
    "xn = np.array([1,4])\n",
    "xn = np.array([0.74919812,-0.01283014])\n",
    "vn = -df(xn)/la.norm(df(xn))\n",
    "print(np.shape(xn))\n",
    "print(np.shape(vn))\n",
    "lambs = np.arange(0,1,0.1)\n",
    "\n",
    "for i in lambs:\n",
    "    plt.scatter(i,f(xn+i*vn))"
   ]
  },
  {
   "cell_type": "code",
   "execution_count": 225,
   "id": "27750782",
   "metadata": {
    "scrolled": false
   },
   "outputs": [
    {
     "name": "stdout",
     "output_type": "stream",
     "text": [
      "[1 4]\n",
      "[-0.06237829 -0.99805258]\n",
      "4.019534709563281\n",
      "\n",
      "\n",
      "xn =  [1 4]\n",
      "vn =  [-0.06237829 -0.99805258]\n",
      "lamb min =  4.019534709563281\n",
      "Dot =  -1.342261308268089e-06\n",
      "xn new =  [ 0.74926831 -0.01170698]\n",
      "vn new =  [-0.99805269  0.0623765 ]\n",
      "0.7507 \n",
      "\n",
      "\n",
      "xn =  [ 0.74926831 -0.01170698]\n",
      "vn =  [-0.99805269  0.0623765 ]\n",
      "lamb min =  4.019534709563281\n",
      "Dot =  3.3157224455821965\n",
      "xn new =  [-3.26243912  0.23901753]\n",
      "vn new =  [ 0.95964141 -0.28122655]\n",
      "3.3996 \n",
      "\n",
      "\n",
      "xn =  [-3.26243912  0.23901753]\n",
      "vn =  [ 0.95964141 -0.28122655]\n",
      "lamb min =  4.019534709563281\n",
      "Dot =  1.5735860940778745\n",
      "xn new =  [ 0.59487283 -0.89138233]\n",
      "vn new =  [-0.16456531  0.98636619]\n",
      "3.6148 \n",
      "\n",
      "\n",
      "xn =  [ 0.59487283 -0.89138233]\n",
      "vn =  [-0.16456531  0.98636619]\n",
      "lamb min =  4.019534709563281\n",
      "Dot =  12.136757833406856\n",
      "xn new =  [-0.06660315  3.0733508 ]\n",
      "vn new =  [ 0.00541772 -0.99998532]\n",
      "12.2936 \n",
      "\n",
      "\n",
      "xn =  [-0.06660315  3.0733508 ]\n",
      "vn =  [ 0.00541772 -0.99998532]\n",
      "lamb min =  4.019534709563281\n",
      "Dot =  3.784201274435853\n",
      "xn new =  [-0.04482645 -0.94612492]\n",
      "vn new =  [0.01184392 0.99992986]\n",
      "3.7848 \n",
      "\n",
      "\n",
      "xn =  [-0.04482645 -0.94612492]\n",
      "vn =  [0.01184392 0.99992986]\n",
      "lamb min =  4.019534709563281\n",
      "Dot =  12.291682133932502\n",
      "xn new =  [2.78059184e-03 3.07312785e+00]\n",
      "vn new =  [-2.26202089e-04 -9.99999974e-01]\n",
      "12.2925 \n",
      "\n",
      "\n",
      "xn =  [2.78059184e-03 3.07312785e+00]\n",
      "vn =  [-2.26202089e-04 -9.99999974e-01]\n",
      "lamb min =  4.019534709563281\n",
      "Dot =  3.7856264886070474\n",
      "xn new =  [ 0.00187136 -0.94640675]\n",
      "vn new =  [-4.94334084e-04  9.99999878e-01]\n",
      "3.7856 \n",
      "\n",
      "\n",
      "xn =  [ 0.00187136 -0.94640675]\n",
      "vn =  [-4.94334084e-04  9.99999878e-01]\n",
      "lamb min =  4.019534709563281\n",
      "Dot =  12.29250842023434\n",
      "xn new =  [-1.15628320e-04  3.07312747e+00]\n",
      "vn new =  [ 9.40640452e-06 -1.00000000e+00]\n",
      "12.2925 \n",
      "\n",
      "\n",
      "xn =  [-1.15628320e-04  3.07312747e+00]\n",
      "vn =  [ 9.40640452e-06 -1.00000000e+00]\n",
      "lamb min =  4.019534709563281\n",
      "Dot =  3.785628971630054\n",
      "xn new =  [-7.78189509e-05 -9.46407243e-01]\n",
      "vn new =  [2.05564125e-05 1.00000000e+00]\n",
      "3.7856 \n",
      "\n",
      "\n",
      "xn =  [-7.78189509e-05 -9.46407243e-01]\n",
      "vn =  [2.05564125e-05 1.00000000e+00]\n",
      "lamb min =  4.019534709563281\n",
      "Dot =  12.2925098598282\n",
      "xn new =  [4.80826281e-06 3.07312747e+00]\n",
      "vn new =  [-3.91153871e-07 -1.00000000e+00]\n",
      "12.2925 \n",
      "\n",
      "\n"
     ]
    },
    {
     "data": {
      "text/plain": [
       "array([4.80826281e-06, 3.07312747e+00])"
      ]
     },
     "execution_count": 225,
     "metadata": {},
     "output_type": "execute_result"
    },
    {
     "data": {
      "image/png": "[encoded data removed]",
      "text/plain": [
       "<Figure size 576x432 with 1 Axes>"
      ]
     },
     "metadata": {
      "needs_background": "light"
     },
     "output_type": "display_data"
    }
   ],
   "source": [
    "SteepestDescent(f, df, np.array([1,4]), 1e1)"
   ]
  },
  {
   "cell_type": "code",
   "execution_count": null,
   "id": "f3a4a45f",
   "metadata": {
    "scrolled": false
   },
   "outputs": [],
   "source": [
    "xn = np.array([1,4])\n",
    "vn = np.array([-0.31622777, -0.9486833])\n",
    "lambs = np.arange(-2.0,4.01,0.01)\n",
    "\n",
    "for i in lambs:\n",
    "    plt.scatter(i,f(xn + i*vn))"
   ]
  },
  {
   "cell_type": "code",
   "execution_count": null,
   "id": "58efeb49",
   "metadata": {},
   "outputs": [],
   "source": []
  }
 ],
 "metadata": {
  "kernelspec": {
   "display_name": "Python 3 (ipykernel)",
   "language": "python",
   "name": "python3"
  },
  "language_info": {
   "codemirror_mode": {
    "name": "ipython",
    "version": 3
   },
   "file_extension": ".py",
   "mimetype": "text/x-python",
   "name": "python",
   "nbconvert_exporter": "python",
   "pygments_lexer": "ipython3",
   "version": "3.9.12"
  }
 },
 "nbformat": 4,
 "nbformat_minor": 5
}
