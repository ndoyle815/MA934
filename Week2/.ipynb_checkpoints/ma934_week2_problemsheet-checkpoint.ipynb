{
 "cells": [
  {
   "cell_type": "markdown",
   "metadata": {},
   "source": [
    "# MA934 - class 2\n",
    "\n",
    "## Deadline: 12:00 noon on Thursday 20 October \n",
    "\n",
    "You should make at least one commit to your repository per computational task below - usually more.\n",
    "\n",
    "For this assignment, you must create a new Jupyter notebook called MA934_Class2_UniID.ipynb to contain the implementations that you write. You can separate out individual tasks if you prefer, but the full submission should be made as a single .zip via [our website](https://warwick.ac.uk/fac/sci/mathsys/courses/msc/ma934/resources/assessedwork/ma934declaration). The platform will not allow you to upload more than one file.\n",
    "\n",
    "A few tips:\n",
    "- please make sure to debug intermediate outputs as you code along. You are welcome to design smaller test cases and toy problems to verify your work (even if they are not part of the final submission).\n",
    "- consider possible forms of input or arguments and make sure your solution can cope with *interesting* cases.\n",
    "- do not forget to comment your code and use Markdown cells to explain what you are doing. A perfectly functional solution with no information about the thought process will not receive more than a subset of the points (~$70\\%$ depending on the difficulty of the problem and how transparent the algorithm flow is). \n",
    "- generally getting used to writing tidy solution is good practice. Feel free to use [online resources](https://www.ibm.com/docs/en/watson-studio-local/1.2.3?topic=notebooks-markdown-jupyter-cheatsheet) for editing guidance."
   ]
  },
  {
   "cell_type": "markdown",
   "metadata": {},
   "source": [
    "## Task 1 - insertion sort\n",
    "\n",
    "Add an implementation of the insertion sort algorithm to your solution. Check that it works by sorting some manageably small lists of random integers. The command ```random.sample(range(1, 200), 10)``` (after having imported the random module) creates a list of 10 random intergers in the range $1 - 200$ which you can use for more elaborate testing."
   ]
  },
  {
   "cell_type": "code",
   "execution_count": 1,
   "metadata": {},
   "outputs": [],
   "source": [
    "# Import libraries\n",
    "import time\n",
    "import numpy as np\n",
    "from numpy import linalg as LA\n",
    "import random\n",
    "import matplotlib.pyplot as plt\n",
    "plt.rcParams['text.usetex'] = True"
   ]
  },
  {
   "cell_type": "markdown",
   "metadata": {},
   "source": [
    "**Insertion sort algorithm:** This function is designed to only work for arrays and lists and will return an error for alternative datatypes. The idea is to iterate through elements of a list/array of size $n$ and move the element of interest leftwards until it meets an element of smaller size. Eventually, we arrive at a list/array of integers in ascending order."
   ]
  },
  {
   "cell_type": "code",
   "execution_count": 2,
   "metadata": {},
   "outputs": [],
   "source": [
    "#function to sort arrays using the insertion method \n",
    "def SortINSR(a):\n",
    "    if type(a) == np.ndarray or type(a) == list:\n",
    "        n = len(a)\n",
    "        if n == 1:\n",
    "            return a #re-return the array if it contains only one element\n",
    "        else:\n",
    "            for j in range(1,n): #for each iteration we focus on moving the a[j] element of the original array\n",
    "                k = j\n",
    "                while a[k] < a[k-1] and k > 0: #iterates until a[k] is in suitable position or at the beginning\n",
    "                    hold = a[k-1] #placeholder variable to store a[k-1] before replacement\n",
    "                    a[k-1] = a[k] #a[k] is now smaller value\n",
    "                    a[k] = hold #a[k] is now larger value\n",
    "                    k -= 1 #move index down the array to compare with next smaller element\n",
    "        \n",
    "            return a #array has been sorted\n",
    "    else:\n",
    "        return 'Error: argument must be a list or array'"
   ]
  },
  {
   "cell_type": "markdown",
   "metadata": {},
   "source": [
    "**Testing:**"
   ]
  },
  {
   "cell_type": "code",
   "execution_count": 3,
   "metadata": {},
   "outputs": [
    {
     "name": "stdout",
     "output_type": "stream",
     "text": [
      "[  29   37   43  143  159  236  267  343  444  476  615  633  775  791\n",
      "  896  918  982 1094 1121 1122 1146 1166 1243 1274 1277 1300 1317 1346\n",
      " 1383 1444 1469 1492 1545 1620 1630 1643 1652 1686 1712 1811 1817 1826\n",
      " 2067 2106 2135 2146 2164 2222 2250 2284 2325 2337 2437 2447 2449 2459\n",
      " 2465 2474 2648 2666 2684 2860 2920 3097 3225 3340 3409 3441 3447 3507\n",
      " 3521 3534 3569 3608 3667 3681 3722 3759 3872 3882 3992 4021 4043 4078\n",
      " 4093 4163 4390 4428 4464 4485 4490 4495 4519 4528 4631 4653 4728 4735\n",
      " 4780 4795]\n"
     ]
    }
   ],
   "source": [
    "#test case\n",
    "#visible by eye - arrays up to 100 in size\n",
    "test1 = np.array(random.sample(range(1,5000),100))\n",
    "print(SortINSR(test1))\n",
    "\n",
    "#for larger arrays\n",
    "test1 = np.array(random.sample(range(1,5000),1000))\n",
    "for l in range(2,len(test1)):\n",
    "    if test1[l] < SortINSR(test1)[:l-1].max() or test1[l] < test1[l-1]:\n",
    "        print('whoops') #should have no output if correct"
   ]
  },
  {
   "cell_type": "markdown",
   "metadata": {},
   "source": [
    "## Task 2 - mergesort\n",
    "\n",
    "Consider two lists of integers, list1 and list2, having lengths $n$ and $m$, respectively. Assuming that the elements of list1 and list2 are already sorted in ascending order, the following recursive function merges them to return an array of length $n+m$ whose elements are sorted in ascending order:\n",
    "\n",
    "```Python\n",
    "    def interlace(list1, list2):\n",
    "    alist = []\n",
    "    if (len(list1) == 0):\n",
    "        return list2\n",
    "    elif (len(list2) == 0):\n",
    "        return list1\n",
    "    elif list1[0] < list2[0]:\n",
    "        alist.append(list1[0])\n",
    "        return alist + interlace(list1[1:], list2)\n",
    "    else:\n",
    "        alist.append(list2[0])\n",
    "        return alist + interlace(list1, list2[1:])\n",
    "```\n",
    "\n",
    "You have seen this function before (recall MA934_Week1_3_SortingAlgorithms.ipynb). Add it to your code, test it, and use it to implement the mergesort algorithm. Check that it works."
   ]
  },
  {
   "cell_type": "markdown",
   "metadata": {},
   "source": [
    "**(Given) interlace function:** This function is designed to __only__ work for lists and will return an error for alternative datatypes. Since the \"+\" operation differs in meaning from lists to arrays, implementing the algorithm for arrays will return the sum of entries in the arrays, rather than appending elements to ```alist```. The objective is to interlace two lists, ```list1``` and ```list2``` of size $n$ and $m$ respectively, and create a new list, called ```alist```, of size $n + m$. In each iteration we append alist with the smaller of ```list1``` and ```list2``` elements. When we make a comparison between the $i$-th element of ```list1``` against the $j$-th element of ```list2```, our next iteration will either compare the $i+1$-th element of ```list1``` against the $j$-th element of ```list2``` if ```list1[i]``` is smaller, or compare the $i$-th element of ```list1``` against the $j+1$-th element of ```list2``` if ```list2[j]``` is smaller. This is the recursive part of the algorithm. For our next comparison we can call the function again to interlace ```list1[i:]``` and ```list2[j:]```, as the previous elements in ```list1``` and ```list2``` have already been considered for interlacing and lie in ```alist```."
   ]
  },
  {
   "cell_type": "code",
   "execution_count": 4,
   "metadata": {},
   "outputs": [],
   "source": [
    "#Interlacing function\n",
    "def interlace(list1, list2):\n",
    "    if type(list1) == list and type(list2) == list:\n",
    "        alist = [] #new empty list to hold the interlaced elements\n",
    "        if (len(list1) == 0):\n",
    "            return list2\n",
    "        elif (len(list2) == 0):\n",
    "            return list1\n",
    "        elif list1[0] < list2[0]:\n",
    "            alist.append(list1[0]) #add list1[0] to alist if smaller than list2[0]\n",
    "            return alist + interlace(list1[1:], list2) #recursive part - will compare next element of list1 with list2[0] etc\n",
    "        else:\n",
    "            alist.append(list2[0]) #add list2[0] to alist if smaller than list1[0]\n",
    "            return alist + interlace(list1, list2[1:]) #recursive part - will compare next element of list1 with list1[0] etc\n",
    "    \n",
    "    else:\n",
    "        return 'Error: arguments must be lists'"
   ]
  },
  {
   "cell_type": "markdown",
   "metadata": {},
   "source": [
    "**Testing:**"
   ]
  },
  {
   "cell_type": "code",
   "execution_count": 5,
   "metadata": {},
   "outputs": [
    {
     "name": "stdout",
     "output_type": "stream",
     "text": [
      "test2 =  [368, 18, 500, 885, 929, 1049, 26, 1539, 666, 1961]\n",
      "test2 =  [1728, 357, 666, 1011, 532, 171, 1427, 177, 1108, 670]\n",
      "[368, 18, 500, 885, 929, 1049, 26, 1539, 666, 1728, 357, 666, 1011, 532, 171, 1427, 177, 1108, 670, 1961]\n"
     ]
    }
   ],
   "source": [
    "#test cases (interlacing)\n",
    "test2 = random.sample(range(1,2000),10)\n",
    "test3 = random.sample(range(1,2000),10)\n",
    "print('test2 = ',test2)\n",
    "print('test2 = ',test3)\n",
    "print(interlace(test2,test3))"
   ]
  },
  {
   "cell_type": "markdown",
   "metadata": {},
   "source": [
    "**Mergesort function:** This function is designed to work for lists and will return an error for alternative datatypes. If the given argument is an array, it will convert it to a list using ```array.tolist()```. The idea is to apply the recursive interlace function above to interlace the first half of the list with the second. If our given list is odd, our separation point is $m = \\lfloor n/2 \\rfloor$ so the second list is one element larger. Mergesort is a recursive algorithm - the two arrays are already sorted and the final sort should occur in $\\mathcal{O} (n)$ time."
   ]
  },
  {
   "cell_type": "code",
   "execution_count": 6,
   "metadata": {},
   "outputs": [],
   "source": [
    "#mergesort function\n",
    "def SortMERGE(a):\n",
    "    if type(a) == np.ndarray:\n",
    "        a = a.tolist() #need to convert arrays to lists for interlacing function to work\n",
    "    if type(a) == list:\n",
    "        n = len(a)\n",
    "        if n == 1:\n",
    "            return a #re-return the list if it contains only one element\n",
    "        else:\n",
    "            m = int(np.floor(n/2))\n",
    "            return interlace(SortMERGE(a[0:m]),SortMERGE(a[m:n])) #recursive part - interlace first half of list with the second half\n",
    "        \n",
    "    else:\n",
    "        return 'Error: arguments must be lists'"
   ]
  },
  {
   "cell_type": "markdown",
   "metadata": {},
   "source": [
    "**Testing:**"
   ]
  },
  {
   "cell_type": "code",
   "execution_count": 7,
   "metadata": {},
   "outputs": [
    {
     "name": "stdout",
     "output_type": "stream",
     "text": [
      "[293, 686, 1053, 1175, 1208, 1381, 1511, 1663, 1684, 1930]\n"
     ]
    }
   ],
   "source": [
    "#test case\n",
    "#visible by eye - arrays up to 100 in size\n",
    "test4 = np.array(random.sample(range(1,2000),10))\n",
    "print(SortMERGE(test4))\n",
    "\n",
    "#for larger arrays\n",
    "test4 = np.array(random.sample(range(1,5000),1000))\n",
    "for l in range(2,len(test4)):\n",
    "    if test4[l] < SortINSR(test4)[:l-1].max() or test4[l] < test4[l-1]:\n",
    "        print('whoops') #should have no output if correct"
   ]
  },
  {
   "cell_type": "markdown",
   "metadata": {},
   "source": [
    "## Task 3 - fixing mergesort\n",
    "\n",
    "You will probably find that your mergesort algorithm fails for moderately array lengths (on my laptop, I could not viably process lists of length $2^{16}$ for example, but this is just a guide). The reason for this is that there are too many recursions: the code quickly exceeds the maximum allowed recursion depth. \n",
    "\n",
    "To fix this, write a non-recursive implementation of the ```interlace()``` function. Test your ```mergesort()``` function using the non-recursive version. How does it compare to the previous solution in terms of achievable list length?"
   ]
  },
  {
   "cell_type": "code",
   "execution_count": 8,
   "metadata": {},
   "outputs": [
    {
     "ename": "RecursionError",
     "evalue": "maximum recursion depth exceeded while calling a Python object",
     "output_type": "error",
     "traceback": [
      "\u001b[0;31m---------------------------------------------------------------------------\u001b[0m",
      "\u001b[0;31mRecursionError\u001b[0m                            Traceback (most recent call last)",
      "Input \u001b[0;32mIn [8]\u001b[0m, in \u001b[0;36m<cell line: 3>\u001b[0;34m()\u001b[0m\n\u001b[1;32m      1\u001b[0m \u001b[38;5;66;03m#testing for the maximum recursion depth for mergesort\u001b[39;00m\n\u001b[1;32m      2\u001b[0m test5 \u001b[38;5;241m=\u001b[39m random\u001b[38;5;241m.\u001b[39msample(\u001b[38;5;28mrange\u001b[39m(\u001b[38;5;241m1\u001b[39m,\u001b[38;5;241m10\u001b[39m\u001b[38;5;241m*\u001b[39m\u001b[38;5;241m*\u001b[39m\u001b[38;5;241m12\u001b[39m),\u001b[38;5;241m2\u001b[39m\u001b[38;5;241m*\u001b[39m\u001b[38;5;241m*\u001b[39m\u001b[38;5;241m12\u001b[39m)\n\u001b[0;32m----> 3\u001b[0m result \u001b[38;5;241m=\u001b[39m \u001b[43mSortMERGE\u001b[49m\u001b[43m(\u001b[49m\u001b[43mtest5\u001b[49m\u001b[43m)\u001b[49m\n",
      "Input \u001b[0;32mIn [6]\u001b[0m, in \u001b[0;36mSortMERGE\u001b[0;34m(a)\u001b[0m\n\u001b[1;32m      9\u001b[0m     \u001b[38;5;28;01melse\u001b[39;00m:\n\u001b[1;32m     10\u001b[0m         m \u001b[38;5;241m=\u001b[39m \u001b[38;5;28mint\u001b[39m(np\u001b[38;5;241m.\u001b[39mfloor(n\u001b[38;5;241m/\u001b[39m\u001b[38;5;241m2\u001b[39m))\n\u001b[0;32m---> 11\u001b[0m         \u001b[38;5;28;01mreturn\u001b[39;00m \u001b[43minterlace\u001b[49m\u001b[43m(\u001b[49m\u001b[43mSortMERGE\u001b[49m\u001b[43m(\u001b[49m\u001b[43ma\u001b[49m\u001b[43m[\u001b[49m\u001b[38;5;241;43m0\u001b[39;49m\u001b[43m:\u001b[49m\u001b[43mm\u001b[49m\u001b[43m]\u001b[49m\u001b[43m)\u001b[49m\u001b[43m,\u001b[49m\u001b[43mSortMERGE\u001b[49m\u001b[43m(\u001b[49m\u001b[43ma\u001b[49m\u001b[43m[\u001b[49m\u001b[43mm\u001b[49m\u001b[43m:\u001b[49m\u001b[43mn\u001b[49m\u001b[43m]\u001b[49m\u001b[43m)\u001b[49m\u001b[43m)\u001b[49m \u001b[38;5;66;03m#recursive part - interlace first half of list with the second half\u001b[39;00m\n\u001b[1;32m     13\u001b[0m \u001b[38;5;28;01melse\u001b[39;00m:\n\u001b[1;32m     14\u001b[0m     \u001b[38;5;28;01mreturn\u001b[39;00m \u001b[38;5;124m'\u001b[39m\u001b[38;5;124mError: arguments must be lists\u001b[39m\u001b[38;5;124m'\u001b[39m\n",
      "Input \u001b[0;32mIn [4]\u001b[0m, in \u001b[0;36minterlace\u001b[0;34m(list1, list2)\u001b[0m\n\u001b[1;32m     12\u001b[0m     \u001b[38;5;28;01melse\u001b[39;00m:\n\u001b[1;32m     13\u001b[0m         alist\u001b[38;5;241m.\u001b[39mappend(list2[\u001b[38;5;241m0\u001b[39m]) \u001b[38;5;66;03m#add list2[0] to alist if smaller than list1[0]\u001b[39;00m\n\u001b[0;32m---> 14\u001b[0m         \u001b[38;5;28;01mreturn\u001b[39;00m alist \u001b[38;5;241m+\u001b[39m \u001b[43minterlace\u001b[49m\u001b[43m(\u001b[49m\u001b[43mlist1\u001b[49m\u001b[43m,\u001b[49m\u001b[43m \u001b[49m\u001b[43mlist2\u001b[49m\u001b[43m[\u001b[49m\u001b[38;5;241;43m1\u001b[39;49m\u001b[43m:\u001b[49m\u001b[43m]\u001b[49m\u001b[43m)\u001b[49m \u001b[38;5;66;03m#recursive part - will compare next element of list1 with list1[0] etc\u001b[39;00m\n\u001b[1;32m     16\u001b[0m \u001b[38;5;28;01melse\u001b[39;00m:\n\u001b[1;32m     17\u001b[0m     \u001b[38;5;28;01mreturn\u001b[39;00m \u001b[38;5;124m'\u001b[39m\u001b[38;5;124mError: arguments must be lists\u001b[39m\u001b[38;5;124m'\u001b[39m\n",
      "Input \u001b[0;32mIn [4]\u001b[0m, in \u001b[0;36minterlace\u001b[0;34m(list1, list2)\u001b[0m\n\u001b[1;32m     12\u001b[0m     \u001b[38;5;28;01melse\u001b[39;00m:\n\u001b[1;32m     13\u001b[0m         alist\u001b[38;5;241m.\u001b[39mappend(list2[\u001b[38;5;241m0\u001b[39m]) \u001b[38;5;66;03m#add list2[0] to alist if smaller than list1[0]\u001b[39;00m\n\u001b[0;32m---> 14\u001b[0m         \u001b[38;5;28;01mreturn\u001b[39;00m alist \u001b[38;5;241m+\u001b[39m \u001b[43minterlace\u001b[49m\u001b[43m(\u001b[49m\u001b[43mlist1\u001b[49m\u001b[43m,\u001b[49m\u001b[43m \u001b[49m\u001b[43mlist2\u001b[49m\u001b[43m[\u001b[49m\u001b[38;5;241;43m1\u001b[39;49m\u001b[43m:\u001b[49m\u001b[43m]\u001b[49m\u001b[43m)\u001b[49m \u001b[38;5;66;03m#recursive part - will compare next element of list1 with list1[0] etc\u001b[39;00m\n\u001b[1;32m     16\u001b[0m \u001b[38;5;28;01melse\u001b[39;00m:\n\u001b[1;32m     17\u001b[0m     \u001b[38;5;28;01mreturn\u001b[39;00m \u001b[38;5;124m'\u001b[39m\u001b[38;5;124mError: arguments must be lists\u001b[39m\u001b[38;5;124m'\u001b[39m\n",
      "    \u001b[0;31m[... skipping similar frames: interlace at line 14 (1 times)]\u001b[0m\n",
      "Input \u001b[0;32mIn [4]\u001b[0m, in \u001b[0;36minterlace\u001b[0;34m(list1, list2)\u001b[0m\n\u001b[1;32m      9\u001b[0m \u001b[38;5;28;01melif\u001b[39;00m list1[\u001b[38;5;241m0\u001b[39m] \u001b[38;5;241m<\u001b[39m list2[\u001b[38;5;241m0\u001b[39m]:\n\u001b[1;32m     10\u001b[0m     alist\u001b[38;5;241m.\u001b[39mappend(list1[\u001b[38;5;241m0\u001b[39m]) \u001b[38;5;66;03m#add list1[0] to alist if smaller than list2[0]\u001b[39;00m\n\u001b[0;32m---> 11\u001b[0m     \u001b[38;5;28;01mreturn\u001b[39;00m alist \u001b[38;5;241m+\u001b[39m \u001b[43minterlace\u001b[49m\u001b[43m(\u001b[49m\u001b[43mlist1\u001b[49m\u001b[43m[\u001b[49m\u001b[38;5;241;43m1\u001b[39;49m\u001b[43m:\u001b[49m\u001b[43m]\u001b[49m\u001b[43m,\u001b[49m\u001b[43m \u001b[49m\u001b[43mlist2\u001b[49m\u001b[43m)\u001b[49m \u001b[38;5;66;03m#recursive part - will compare next element of list1 with list2[0] etc\u001b[39;00m\n\u001b[1;32m     12\u001b[0m \u001b[38;5;28;01melse\u001b[39;00m:\n\u001b[1;32m     13\u001b[0m     alist\u001b[38;5;241m.\u001b[39mappend(list2[\u001b[38;5;241m0\u001b[39m]) \u001b[38;5;66;03m#add list2[0] to alist if smaller than list1[0]\u001b[39;00m\n",
      "Input \u001b[0;32mIn [4]\u001b[0m, in \u001b[0;36minterlace\u001b[0;34m(list1, list2)\u001b[0m\n\u001b[1;32m      9\u001b[0m \u001b[38;5;28;01melif\u001b[39;00m list1[\u001b[38;5;241m0\u001b[39m] \u001b[38;5;241m<\u001b[39m list2[\u001b[38;5;241m0\u001b[39m]:\n\u001b[1;32m     10\u001b[0m     alist\u001b[38;5;241m.\u001b[39mappend(list1[\u001b[38;5;241m0\u001b[39m]) \u001b[38;5;66;03m#add list1[0] to alist if smaller than list2[0]\u001b[39;00m\n\u001b[0;32m---> 11\u001b[0m     \u001b[38;5;28;01mreturn\u001b[39;00m alist \u001b[38;5;241m+\u001b[39m \u001b[43minterlace\u001b[49m\u001b[43m(\u001b[49m\u001b[43mlist1\u001b[49m\u001b[43m[\u001b[49m\u001b[38;5;241;43m1\u001b[39;49m\u001b[43m:\u001b[49m\u001b[43m]\u001b[49m\u001b[43m,\u001b[49m\u001b[43m \u001b[49m\u001b[43mlist2\u001b[49m\u001b[43m)\u001b[49m \u001b[38;5;66;03m#recursive part - will compare next element of list1 with list2[0] etc\u001b[39;00m\n\u001b[1;32m     12\u001b[0m \u001b[38;5;28;01melse\u001b[39;00m:\n\u001b[1;32m     13\u001b[0m     alist\u001b[38;5;241m.\u001b[39mappend(list2[\u001b[38;5;241m0\u001b[39m]) \u001b[38;5;66;03m#add list2[0] to alist if smaller than list1[0]\u001b[39;00m\n",
      "    \u001b[0;31m[... skipping similar frames: interlace at line 11 (1487 times), interlace at line 14 (1477 times)]\u001b[0m\n",
      "Input \u001b[0;32mIn [4]\u001b[0m, in \u001b[0;36minterlace\u001b[0;34m(list1, list2)\u001b[0m\n\u001b[1;32m     12\u001b[0m     \u001b[38;5;28;01melse\u001b[39;00m:\n\u001b[1;32m     13\u001b[0m         alist\u001b[38;5;241m.\u001b[39mappend(list2[\u001b[38;5;241m0\u001b[39m]) \u001b[38;5;66;03m#add list2[0] to alist if smaller than list1[0]\u001b[39;00m\n\u001b[0;32m---> 14\u001b[0m         \u001b[38;5;28;01mreturn\u001b[39;00m alist \u001b[38;5;241m+\u001b[39m \u001b[43minterlace\u001b[49m\u001b[43m(\u001b[49m\u001b[43mlist1\u001b[49m\u001b[43m,\u001b[49m\u001b[43m \u001b[49m\u001b[43mlist2\u001b[49m\u001b[43m[\u001b[49m\u001b[38;5;241;43m1\u001b[39;49m\u001b[43m:\u001b[49m\u001b[43m]\u001b[49m\u001b[43m)\u001b[49m \u001b[38;5;66;03m#recursive part - will compare next element of list1 with list1[0] etc\u001b[39;00m\n\u001b[1;32m     16\u001b[0m \u001b[38;5;28;01melse\u001b[39;00m:\n\u001b[1;32m     17\u001b[0m     \u001b[38;5;28;01mreturn\u001b[39;00m \u001b[38;5;124m'\u001b[39m\u001b[38;5;124mError: arguments must be lists\u001b[39m\u001b[38;5;124m'\u001b[39m\n",
      "Input \u001b[0;32mIn [4]\u001b[0m, in \u001b[0;36minterlace\u001b[0;34m(list1, list2)\u001b[0m\n\u001b[1;32m      9\u001b[0m \u001b[38;5;28;01melif\u001b[39;00m list1[\u001b[38;5;241m0\u001b[39m] \u001b[38;5;241m<\u001b[39m list2[\u001b[38;5;241m0\u001b[39m]:\n\u001b[1;32m     10\u001b[0m     alist\u001b[38;5;241m.\u001b[39mappend(list1[\u001b[38;5;241m0\u001b[39m]) \u001b[38;5;66;03m#add list1[0] to alist if smaller than list2[0]\u001b[39;00m\n\u001b[0;32m---> 11\u001b[0m     \u001b[38;5;28;01mreturn\u001b[39;00m alist \u001b[38;5;241m+\u001b[39m \u001b[43minterlace\u001b[49m\u001b[43m(\u001b[49m\u001b[43mlist1\u001b[49m\u001b[43m[\u001b[49m\u001b[38;5;241;43m1\u001b[39;49m\u001b[43m:\u001b[49m\u001b[43m]\u001b[49m\u001b[43m,\u001b[49m\u001b[43m \u001b[49m\u001b[43mlist2\u001b[49m\u001b[43m)\u001b[49m \u001b[38;5;66;03m#recursive part - will compare next element of list1 with list2[0] etc\u001b[39;00m\n\u001b[1;32m     12\u001b[0m \u001b[38;5;28;01melse\u001b[39;00m:\n\u001b[1;32m     13\u001b[0m     alist\u001b[38;5;241m.\u001b[39mappend(list2[\u001b[38;5;241m0\u001b[39m]) \u001b[38;5;66;03m#add list2[0] to alist if smaller than list1[0]\u001b[39;00m\n",
      "Input \u001b[0;32mIn [4]\u001b[0m, in \u001b[0;36minterlace\u001b[0;34m(list1, list2)\u001b[0m\n\u001b[1;32m      2\u001b[0m \u001b[38;5;28;01mdef\u001b[39;00m \u001b[38;5;21minterlace\u001b[39m(list1, list2):\n\u001b[0;32m----> 3\u001b[0m     \u001b[38;5;28;01mif\u001b[39;00m \u001b[38;5;28;43mtype\u001b[39;49m\u001b[43m(\u001b[49m\u001b[43mlist1\u001b[49m\u001b[43m)\u001b[49m \u001b[38;5;241m==\u001b[39m \u001b[38;5;28mlist\u001b[39m \u001b[38;5;129;01mand\u001b[39;00m \u001b[38;5;28mtype\u001b[39m(list2) \u001b[38;5;241m==\u001b[39m \u001b[38;5;28mlist\u001b[39m:\n\u001b[1;32m      4\u001b[0m         alist \u001b[38;5;241m=\u001b[39m [] \u001b[38;5;66;03m#new empty list to hold the interlaced elements\u001b[39;00m\n\u001b[1;32m      5\u001b[0m         \u001b[38;5;28;01mif\u001b[39;00m (\u001b[38;5;28mlen\u001b[39m(list1) \u001b[38;5;241m==\u001b[39m \u001b[38;5;241m0\u001b[39m):\n",
      "\u001b[0;31mRecursionError\u001b[0m: maximum recursion depth exceeded while calling a Python object"
     ]
    }
   ],
   "source": [
    "#testing for the maximum recursion depth for mergesort\n",
    "test5 = random.sample(range(1,10**12),2**12)\n",
    "result = SortMERGE(test5)"
   ]
  },
  {
   "cell_type": "markdown",
   "metadata": {},
   "source": [
    "It seems to exceed the maximum recursion depth for integer arrays of length $2^{12}$. We'll now edit the interlacing function to be non-recursive so we do not overflow the call stack."
   ]
  },
  {
   "cell_type": "markdown",
   "metadata": {},
   "source": [
    "**(Non-recursive) interlace function:** This function is the same as the recursive interlace function in terms of allowable arguments. To alter the function to be non-recursive, we use two variables ```j1``` and ```j2``` to keep track of the number of elements from ```list1``` and ```list2``` respectively which have already been interlaced into ```alist```. For each comparison we increment the suitable ```j``` variable by one until the list is exhausted."
   ]
  },
  {
   "cell_type": "code",
   "execution_count": 9,
   "metadata": {},
   "outputs": [],
   "source": [
    "#Interlacing function (non-recursive)\n",
    "def interlace_adapted(list1, list2):\n",
    "    if type(list1) == list and type(list2) == list: #designed to work for lists\n",
    "        alist = [] #new empty list to hold the interlaced elements\n",
    "        if (len(list1) == 0):\n",
    "            return list2 #return second list if first list empty\n",
    "        elif (len(list2) == 0):\n",
    "            return list1 #return first list if second list empty\n",
    "        else:\n",
    "            j1 = 0\n",
    "            j2 = 0 #index holders for j1 and j2 respectively\n",
    "            while j1 < len(list1) and j2 < len(list2): #repeats iteration until one of lists exhausted\n",
    "                if list1[j1] < list2[j2]: #if j1-th element in list1 is smallest...\n",
    "                    alist.append(list1[j1]) #...add it to alist...\n",
    "                    j1 += 1 #...and for further comparisons we will consider the subsequent element in list1\n",
    "                else: #if j2-th element in list2 is smallest, repeat above process for list2\n",
    "                    alist.append(list2[j2])\n",
    "                    j2 += 1\n",
    "            alist += list1[j1:] + list2[j2:] #append alist with remainder of both lists (one of which will be non-empty)\n",
    "            return alist #alist is interlaced\n",
    "    \n",
    "    else:\n",
    "        return 'Error: arguments must be lists'"
   ]
  },
  {
   "cell_type": "markdown",
   "metadata": {},
   "source": [
    "**Testing:**"
   ]
  },
  {
   "cell_type": "code",
   "execution_count": 10,
   "metadata": {},
   "outputs": [
    {
     "name": "stdout",
     "output_type": "stream",
     "text": [
      "test6 =  [341, 435, 63, 374, 812, 4, 312, 274]\n",
      "test7 =  [611, 817, 9, 697]\n",
      "[341, 435, 63, 374, 611, 812, 4, 312, 274, 817, 9, 697]\n"
     ]
    }
   ],
   "source": [
    "#test case\n",
    "size_diff = np.random.randint(-5,5) #also will test if it works for lists of different sizes\n",
    "test6 = random.sample(range(1,10**3),2**3)\n",
    "test7 = random.sample(range(1,10**3),2**3+size_diff)\n",
    "print('test6 = ',test6)\n",
    "print('test7 = ',test7)\n",
    "print(interlace_adapted(test6,test7))"
   ]
  },
  {
   "cell_type": "markdown",
   "metadata": {},
   "source": [
    "We will update the ```SortMERGE()``` function. The sole change is switching to the non-recursive ```interlace_adapted()``` function above."
   ]
  },
  {
   "cell_type": "code",
   "execution_count": 11,
   "metadata": {},
   "outputs": [],
   "source": [
    "#mergesort function\n",
    "def SortMERGE(a):\n",
    "    if type(a) == np.ndarray:\n",
    "        a = a.tolist() #need to convert arrays to lists for interlacing function to work\n",
    "    if type(a) == list:\n",
    "        n = len(a)\n",
    "        if n == 1:\n",
    "            return a #re-return the list if it contains only one element\n",
    "        else:\n",
    "            m = int(np.floor(n/2))\n",
    "            return interlace_adapted(SortMERGE(a[0:m]),SortMERGE(a[m:n])) #recursive part - interlace first half of list with the second half\n",
    "            \n",
    "    else:\n",
    "        return 'Error: arguments must be lists'"
   ]
  },
  {
   "cell_type": "markdown",
   "metadata": {},
   "source": [
    "**Testing:**"
   ]
  },
  {
   "cell_type": "code",
   "execution_count": 12,
   "metadata": {},
   "outputs": [
    {
     "name": "stdout",
     "output_type": "stream",
     "text": [
      "[205, 324, 641, 707, 1045, 1061, 1608, 1773, 1795, 1938]\n"
     ]
    }
   ],
   "source": [
    "#test case\n",
    "#visible by eye - arrays up to 100 in size\n",
    "test8 = np.array(random.sample(range(0,2000),10))\n",
    "print(SortMERGE(test8))\n",
    "\n",
    "#for larger arrays\n",
    "test8 = np.array(random.sample(range(0,10000),1000))\n",
    "for l in range(2,len(test8)):\n",
    "    if test8[l] < SortINSR(test8)[:l-1].max() or test8[l] < test8[l-1]:\n",
    "        print('whoops') #should have no output if correct"
   ]
  },
  {
   "cell_type": "markdown",
   "metadata": {},
   "source": [
    "How does it compare to the recursive interlacing function in terms of achieveable list length?"
   ]
  },
  {
   "cell_type": "code",
   "execution_count": 13,
   "metadata": {},
   "outputs": [
    {
     "data": {
      "text/plain": [
       "0.9078683980005735"
      ]
     },
     "execution_count": 13,
     "metadata": {},
     "output_type": "execute_result"
    }
   ],
   "source": [
    "#timed case of size 2^18\n",
    "import timeit\n",
    "\n",
    "test9 = random.sample(range(0,2**20),2**18)\n",
    "starttime = timeit.default_timer() #restart timer\n",
    "result = SortMERGE(test9)\n",
    "runtime = timeit.default_timer() - starttime #calulate runtime\n",
    "runtime"
   ]
  },
  {
   "cell_type": "markdown",
   "metadata": {},
   "source": [
    "The test case runs, so we appear to have overcome recursion depth. In the subsequent task we will exploit this to investigate the run time of the mergesort algorithm for random arrays of integers up to $2^{20}$ in length."
   ]
  },
  {
   "cell_type": "markdown",
   "metadata": {},
   "source": [
    "## Task 4 - runtime\n",
    "\n",
    "Measure the runtime of your insertion sort and mergesort functions for random arrays of integers in the range $2$ to $2^{20}$. Save your results to a file.\n",
    "\n",
    "This is the potentially complicated part of this task. Here are some pointers:\n",
    "- recall we have touched upon the topic of runtime measurement and benchmarking when discussing matrix-matrix multiplication. \n",
    "- especially for small datasets, running your code multiple times and averaging the runtime may prove useful.\n",
    "- this part of the worksheet will involve handling file operations; finding the key read/write functionality and getting accustomed to working with the documentation is an intentional part of the process, one that you should become more and more comfortable with."
   ]
  },
  {
   "cell_type": "code",
   "execution_count": 14,
   "metadata": {},
   "outputs": [],
   "source": [
    "#timing\n",
    "max_pow = 20\n",
    "sizesMERGE = np.array([2**i for i in range(1,max_pow+1)]) #array of powers of 2 up to max desired power"
   ]
  },
  {
   "cell_type": "markdown",
   "metadata": {},
   "source": [
    "To smoothen our results, for each power of $2$ we run five times and take an average for the final runtime. With the exception of $2^1$, which is so small that we average over $10,000$ runs."
   ]
  },
  {
   "cell_type": "code",
   "execution_count": 15,
   "metadata": {
    "scrolled": true
   },
   "outputs": [
    {
     "name": "stdout",
     "output_type": "stream",
     "text": [
      "[2.2739174877642655e-06, 5.880599928786978e-06, 1.2053799946443177e-05, 2.4434599981759676e-05, 5.2904399490216746e-05, 0.00011244819979765453, 0.00024029539999901318, 0.0006840895995992469, 0.0011480326003947994, 0.00228103800000099, 0.004789313800210948, 0.010388885599240893, 0.02148382240011415, 0.044532664799771735, 0.09462355699979526, 0.1988946470002702, 0.4602784401991812, 0.9087836365997646, 2.0330501791999267, 4.48387351479978]\n"
     ]
    }
   ],
   "source": [
    "#merge sort\n",
    "runtimesMERGE = [np.float32(0.0)] * len(sizesMERGE) #stores runtimes\n",
    "\n",
    "j = 0\n",
    "for i in sizesMERGE: #for each power of 2...\n",
    "    if i == 2:\n",
    "        repeat = 10**4\n",
    "    else:\n",
    "        repeat = 5\n",
    "    for k in range(repeat):\n",
    "        A = random.sample(range(0,i*2**3),i) #generate random list\n",
    "        starttime = timeit.default_timer() #restart timer\n",
    "        resultMERGE = SortMERGE(A) #perform sorting algorithm\n",
    "        runtimesMERGE[j] += timeit.default_timer() - starttime #calulate runtime\n",
    "    runtimesMERGE[j] = runtimesMERGE[j]/repeat\n",
    "    j = j + 1\n",
    "\n",
    "print(runtimesMERGE)    "
   ]
  },
  {
   "cell_type": "markdown",
   "metadata": {},
   "source": [
    "Insertion sort takes much longer, so we will adjust our max desired power to $16$ so the code is executed in a reasonable time. As above, we run $2^1$ length $10,000$ times and larger lengths thereafter five times, however for length $2^{16}$ we only run once due to its large runtime (in the ballpark of $160s$)."
   ]
  },
  {
   "cell_type": "code",
   "execution_count": 16,
   "metadata": {},
   "outputs": [
    {
     "name": "stdout",
     "output_type": "stream",
     "text": [
      "[6.85233308649913e-07, 1.4718003512825818e-06, 2.7752008463721723e-06, 8.257400259026326e-06, 3.0869999682181516e-05, 0.00011888380031450651, 0.0004404773993883282, 0.0019175273999280761, 0.007783054799801903, 0.03303325660017435, 0.1373493060000328, 0.5583686039994064, 2.274437293399751, 9.217349392200049, 39.079358486799535, 156.1974005000011]\n"
     ]
    }
   ],
   "source": [
    "#insertion method\n",
    "max_pow = 16\n",
    "sizesINSR = np.array([2**i for i in range(1,max_pow+1)]) #array of powers of 2\n",
    "\n",
    "runtimesINSR = [np.float32(0.0)] * len(sizesINSR) #stores runtimes\n",
    "\n",
    "j = 0\n",
    "for i in sizesINSR: #for each power of 2...\n",
    "    if i == 2:\n",
    "        repeat = 10**4\n",
    "    elif i > 2**15+1:\n",
    "        repeat = 1\n",
    "    else:\n",
    "        repeat = 5\n",
    "    for k in range(repeat):\n",
    "        A = random.sample(range(0,i*2**3),i) #generate random list\n",
    "        starttime = timeit.default_timer() #restart timer\n",
    "        resultINSR = SortINSR(A) #perform sorting algorithm\n",
    "        runtimesINSR[j] += timeit.default_timer() - starttime #calulate runtime\n",
    "    runtimesINSR[j] = runtimesINSR[j]/repeat\n",
    "    j = j + 1\n",
    "\n",
    "print(runtimesINSR)    "
   ]
  },
  {
   "cell_type": "code",
   "execution_count": 17,
   "metadata": {},
   "outputs": [
    {
     "data": {
      "text/plain": [
       "412.7552511170852"
      ]
     },
     "execution_count": 17,
     "metadata": {},
     "output_type": "execute_result"
    }
   ],
   "source": [
    "total_time = 10000*runtimesINSR[0] + runtimesINSR[-1]\n",
    "for l in range(1,len(runtimesINSR)-1):\n",
    "    total_time += 5*runtimesINSR[l]\n",
    "total_time"
   ]
  },
  {
   "cell_type": "markdown",
   "metadata": {},
   "source": [
    "Save our runtimes to csv files"
   ]
  },
  {
   "cell_type": "code",
   "execution_count": 18,
   "metadata": {},
   "outputs": [],
   "source": [
    "np.savetxt('insertion_performance.csv', runtimesINSR, delimiter=\",\")  \n",
    "np.savetxt('mergesort_performance.csv', runtimesMERGE, delimiter=\",\")  "
   ]
  },
  {
   "cell_type": "markdown",
   "metadata": {},
   "source": [
    "## Task 5 - empirical analysis of computational complexity\n",
    "\n",
    "Load your runtime results back from the file and plot them on a log-log scale. Fit your data to determine how the computational cost scales with the length of the input array for large array sizes. How does this compare to theoretical expectations (which you should state and briefly justify)?"
   ]
  },
  {
   "cell_type": "code",
   "execution_count": 19,
   "metadata": {},
   "outputs": [
    {
     "name": "stdout",
     "output_type": "stream",
     "text": [
      "[6.85233309e-07 1.47180035e-06 2.77520085e-06 8.25740026e-06\n",
      " 3.08699997e-05 1.18883800e-04 4.40477399e-04 1.91752740e-03\n",
      " 7.78305480e-03 3.30332566e-02 1.37349306e-01 5.58368604e-01\n",
      " 2.27443729e+00 9.21734939e+00 3.90793585e+01 1.56197401e+02]\n",
      "[2.27391749e-06 5.88059993e-06 1.20537999e-05 2.44346000e-05\n",
      " 5.29043995e-05 1.12448200e-04 2.40295400e-04 6.84089600e-04\n",
      " 1.14803260e-03 2.28103800e-03 4.78931380e-03 1.03888856e-02\n",
      " 2.14838224e-02 4.45326648e-02 9.46235570e-02 1.98894647e-01\n",
      " 4.60278440e-01 9.08783637e-01 2.03305018e+00 4.48387351e+00]\n"
     ]
    }
   ],
   "source": [
    "#reload runtime data\n",
    "insertion_speed = np.genfromtxt('insertion_performance.csv')\n",
    "mergesort_speed = np.genfromtxt('mergesort_performance.csv')\n",
    "print(insertion_speed)\n",
    "print(mergesort_speed)"
   ]
  },
  {
   "cell_type": "code",
   "execution_count": 20,
   "metadata": {},
   "outputs": [
    {
     "data": {
      "image/png": "[encoded data removed]",
      "text/plain": [
       "<Figure size 864x576 with 1 Axes>"
      ]
     },
     "metadata": {
      "needs_background": "light"
     },
     "output_type": "display_data"
    }
   ],
   "source": [
    "#plotting\n",
    "plt.rcParams.update({'font.size': 22})\n",
    "\n",
    "plt.figure(figsize=(12, 8))\n",
    "\n",
    "plt.plot(sizesINSR, [i for i in insertion_speed], \"-ks\", label=r\"Computed runtime (Insertion)\", markersize=10, markerfacecolor=(0, 0.447, 0.741, 1))\n",
    "plt.plot(sizesMERGE, [i for i in mergesort_speed], \"-ks\", label=r\"Computed runtime (Merge Sort)\", markersize=10, markerfacecolor=(0.85, 0.325, 0.098, 1))\n",
    "\n",
    "plt.plot(sizesINSR, 1e-6*0.05*np.power(sizesINSR, 2.0), \"--b\", label=r\"$K_1 \\, n^2$\")\n",
    "plt.plot(sizesMERGE, 1e-6*0.5*sizesMERGE*np.log(sizesMERGE), \"--r\", label=r\"$K_2 \\, n \\log(n)$\")\n",
    "\n",
    "plt.legend(loc=\"upper left\")\n",
    "\n",
    "plt.xlabel(r\"$n$\")\n",
    "plt.ylabel(r\"time $(s)$\")\n",
    "plt.xscale(\"log\")\n",
    "plt.yscale(\"log\")\n",
    "plt.ylim([1e-7, 1e3])\n",
    "plt.grid()\n",
    "plt.show()"
   ]
  },
  {
   "cell_type": "markdown",
   "metadata": {},
   "source": [
    "How do our run times compare to theoretical expectations?\n",
    "\n",
    "**Insertion sort:** The worst-case theoretical complexity for the insertion algorithm is $F(n) \\sim \\mathcal{O}(n^2)$, arising from the fact that for all $n$ elements in our array we make up to $n - 1$ comparisons. Our run times for insertion sort scale in a similar fashion to $K_1 \\, n^2$, with $K_1 = 5 \\times 10^{-8}$ independent of $n$. This indicates that the complexity of our insertion sorting algorithm is $F(n) \\sim \\mathcal{O}(n^2)$, matching the theoretical expectations.\n",
    "\n",
    "**Merge sort:** The theoretical complexity of the merge sort algorithm is $F(n) \\sim \\mathcal{O}(n \\log_2{}n)$. To see this, suppose our list size $n$ is a power of 2. Note that the number of recursion levels L for a list of size $n$ satisfies $n = 2^L$, so $L = \\log_2{n}$. At level $m$ in the recursion there are $2 m$ sub-problems each of size $n/2 m$. Hence, the complexity of each level of the recursion is $\\sim \\mathcal{O}(n)$. This gives us a total complexity of $F(n) \\sim \\mathcal{O}(n \\log_2{}n)$ as desired. \\\n",
    "Our run times for the mergesort algorithm scale in a similar fashion to $K_2 \\, n \\log{}n$, with $K_2 = 5 \\times 10^{-7}$ independent of $n$. This indicates that the complexity of our insertion sorting algorithm is $F(n) \\sim \\mathcal{O}(n \\log{}n)$, matching the theoretical expectations."
   ]
  },
  {
   "cell_type": "code",
   "execution_count": null,
   "metadata": {},
   "outputs": [],
   "source": []
  }
 ],
 "metadata": {
  "kernelspec": {
   "display_name": "Python 3 (ipykernel)",
   "language": "python",
   "name": "python3"
  },
  "language_info": {
   "codemirror_mode": {
    "name": "ipython",
    "version": 3
   },
   "file_extension": ".py",
   "mimetype": "text/x-python",
   "name": "python",
   "nbconvert_exporter": "python",
   "pygments_lexer": "ipython3",
   "version": "3.9.12"
  }
 },
 "nbformat": 4,
 "nbformat_minor": 2
}
