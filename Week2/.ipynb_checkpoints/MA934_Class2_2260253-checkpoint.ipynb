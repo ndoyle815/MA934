{
 "cells": [
  {
   "cell_type": "markdown",
   "metadata": {},
   "source": [
    "# MA934 - class 2\n",
    "\n",
    "## Deadline: 12:00 noon on Thursday 20 October \n",
    "\n",
    "You should make at least one commit to your repository per computational task below - usually more.\n",
    "\n",
    "For this assignment, you must create a new Jupyter notebook called MA934_Class2_UniID.ipynb to contain the implementations that you write. You can separate out individual tasks if you prefer, but the full submission should be made as a single .zip via [our website](https://warwick.ac.uk/fac/sci/mathsys/courses/msc/ma934/resources/assessedwork/ma934declaration). The platform will not allow you to upload more than one file.\n",
    "\n",
    "A few tips:\n",
    "- please make sure to debug intermediate outputs as you code along. You are welcome to design smaller test cases and toy problems to verify your work (even if they are not part of the final submission).\n",
    "- consider possible forms of input or arguments and make sure your solution can cope with *interesting* cases.\n",
    "- do not forget to comment your code and use Markdown cells to explain what you are doing. A perfectly functional solution with no information about the thought process will not receive more than a subset of the points (~$70\\%$ depending on the difficulty of the problem and how transparent the algorithm flow is). \n",
    "- generally getting used to writing tidy solution is good practice. Feel free to use [online resources](https://www.ibm.com/docs/en/watson-studio-local/1.2.3?topic=notebooks-markdown-jupyter-cheatsheet) for editing guidance."
   ]
  },
  {
   "cell_type": "markdown",
   "metadata": {},
   "source": [
    "## Task 1 - insertion sort"
   ]
  },
  {
   "cell_type": "code",
   "execution_count": 1,
   "metadata": {},
   "outputs": [],
   "source": [
    "# Import libraries\n",
    "import time\n",
    "import numpy as np\n",
    "from numpy import linalg as LA\n",
    "import random\n",
    "import matplotlib.pyplot as plt\n",
    "plt.rcParams['text.usetex'] = True"
   ]
  },
  {
   "cell_type": "markdown",
   "metadata": {},
   "source": [
    "**Insertion sort algorithm:** This function is designed to only work for arrays and lists and will return an error for alternative datatypes. The idea is to iterate through elements of a list/array of size $n$ and move the element of interest leftwards until it meets an element of smaller size. Eventually, we arrive at a list/array of integers in ascending order."
   ]
  },
  {
   "cell_type": "code",
   "execution_count": 2,
   "metadata": {},
   "outputs": [],
   "source": [
    "#function to sort arrays using the insertion method \n",
    "def SortINSR(a):\n",
    "    if type(a) == np.ndarray or type(a) == list:\n",
    "        n = len(a)\n",
    "        if n == 1:\n",
    "            return a #re-return the array if it contains only one element\n",
    "        else:\n",
    "            for j in range(1,n): #for each iteration we focus on moving the a[j] element of the original array\n",
    "                k = j\n",
    "                while a[k] < a[k-1] and k > 0: #iterates until a[k] is in suitable position or at the beginning\n",
    "                    hold = a[k-1] #placeholder variable to store a[k-1] before replacement\n",
    "                    a[k-1] = a[k] #a[k] is now smaller value\n",
    "                    a[k] = hold #a[k] is now larger value\n",
    "                    k -= 1 #move index down the array to compare with next smaller element\n",
    "        \n",
    "            return a #array has been sorted\n",
    "    else:\n",
    "        return 'Error: argument must be a list or array'"
   ]
  },
  {
   "cell_type": "markdown",
   "metadata": {},
   "source": [
    "**Testing:**"
   ]
  },
  {
   "cell_type": "code",
   "execution_count": 3,
   "metadata": {},
   "outputs": [
    {
     "name": "stdout",
     "output_type": "stream",
     "text": [
      "[  84  121  174  279  317  337  359  473  491  612  618  639  680  812\n",
      "  893  990 1174 1204 1241 1295 1299 1301 1436 1440 1449 1540 1589 1714\n",
      " 1752 1770 1842 1939 1966 2050 2104 2233 2261 2311 2360 2361 2402 2485\n",
      " 2499 2504 2509 2515 2600 2683 2698 2718 2789 2811 2890 2988 3048 3068\n",
      " 3080 3141 3273 3330 3349 3373 3391 3416 3420 3424 3448 3468 3506 3572\n",
      " 3646 3689 3727 3793 3905 4038 4043 4118 4202 4244 4246 4247 4319 4351\n",
      " 4414 4430 4439 4487 4516 4606 4609 4638 4683 4729 4770 4779 4794 4879\n",
      " 4891 4927]\n"
     ]
    }
   ],
   "source": [
    "#test case\n",
    "#visible by eye - arrays up to 100 in size\n",
    "test1 = np.array(random.sample(range(1,5000),100))\n",
    "print(SortINSR(test1))\n",
    "\n",
    "#for larger arrays\n",
    "test1 = np.array(random.sample(range(1,5000),1000))\n",
    "for l in range(2,len(test1)):\n",
    "    if test1[l] < SortINSR(test1)[:l-1].max() or test1[l] < test1[l-1]:\n",
    "        print('whoops') #should have no output if correct"
   ]
  },
  {
   "cell_type": "markdown",
   "metadata": {},
   "source": [
    "## Task 2 - mergesort"
   ]
  },
  {
   "cell_type": "markdown",
   "metadata": {},
   "source": [
    "**(Given) interlace function:** This function is designed to __only__ work for lists and will return an error for alternative datatypes. Since the \"+\" operation differs in meaning from lists to arrays, implementing the algorithm for arrays will return the sum of entries in the arrays, rather than appending elements to ```alist```. The objective is to interlace two lists, ```list1``` and ```list2``` of size $n$ and $m$ respectively, and create a new list, called ```alist```, of size $n + m$. In each iteration we append alist with the smaller of ```list1``` and ```list2``` elements. When we make a comparison between the $i$-th element of ```list1``` against the $j$-th element of ```list2```, our next iteration will either compare the $i+1$-th element of ```list1``` against the $j$-th element of ```list2``` if ```list1[i]``` is smaller, or compare the $i$-th element of ```list1``` against the $j+1$-th element of ```list2``` if ```list2[j]``` is smaller. This is the recursive part of the algorithm. For our next comparison we can call the function again to interlace ```list1[i:]``` and ```list2[j:]```, as the previous elements in ```list1``` and ```list2``` have already been considered for interlacing and lie in ```alist```."
   ]
  },
  {
   "cell_type": "code",
   "execution_count": 4,
   "metadata": {},
   "outputs": [],
   "source": [
    "#Interlacing function\n",
    "def interlace(list1, list2):\n",
    "    if type(list1) == list and type(list2) == list:\n",
    "        alist = [] #new empty list to hold the interlaced elements\n",
    "        if (len(list1) == 0):\n",
    "            return list2\n",
    "        elif (len(list2) == 0):\n",
    "            return list1\n",
    "        elif list1[0] < list2[0]:\n",
    "            alist.append(list1[0]) #add list1[0] to alist if smaller than list2[0]\n",
    "            return alist + interlace(list1[1:], list2) #recursive part - will compare next element of list1 with list2[0] etc\n",
    "        else:\n",
    "            alist.append(list2[0]) #add list2[0] to alist if smaller than list1[0]\n",
    "            return alist + interlace(list1, list2[1:]) #recursive part - will compare next element of list1 with list1[0] etc\n",
    "    \n",
    "    else:\n",
    "        return 'Error: arguments must be lists'"
   ]
  },
  {
   "cell_type": "markdown",
   "metadata": {},
   "source": [
    "**Testing:**"
   ]
  },
  {
   "cell_type": "code",
   "execution_count": 5,
   "metadata": {},
   "outputs": [
    {
     "name": "stdout",
     "output_type": "stream",
     "text": [
      "test2 =  [63, 244, 1254, 1330, 689, 1895, 1031, 1917, 187, 1584]\n",
      "test2 =  [1354, 1516, 1561, 1523, 1222, 253, 710, 756, 256, 1018]\n",
      "[63, 244, 1254, 1330, 689, 1354, 1516, 1561, 1523, 1222, 253, 710, 756, 256, 1018, 1895, 1031, 1917, 187, 1584]\n"
     ]
    }
   ],
   "source": [
    "#test cases (interlacing)\n",
    "test2 = random.sample(range(1,2000),10)\n",
    "test3 = random.sample(range(1,2000),10)\n",
    "print('test2 = ',test2)\n",
    "print('test2 = ',test3)\n",
    "print(interlace(test2,test3))"
   ]
  },
  {
   "cell_type": "markdown",
   "metadata": {},
   "source": [
    "**Mergesort function:** This function is designed to work for lists and will return an error for alternative datatypes. If the given argument is an array, it will convert it to a list using ```array.tolist()```. The idea is to apply the recursive interlace function above to interlace the first half of the list with the second. If our given list is odd, our separation point is $m = \\lfloor n/2 \\rfloor$ so the second list is one element larger. Mergesort is a recursive algorithm - the two arrays are already sorted and the final sort should occur in $\\mathcal{O} (n)$ time."
   ]
  },
  {
   "cell_type": "code",
   "execution_count": 6,
   "metadata": {},
   "outputs": [],
   "source": [
    "#mergesort function\n",
    "def SortMERGE(a):\n",
    "    if type(a) == np.ndarray:\n",
    "        a = a.tolist() #need to convert arrays to lists for interlacing function to work\n",
    "    if type(a) == list:\n",
    "        n = len(a)\n",
    "        if n == 1:\n",
    "            return a #re-return the list if it contains only one element\n",
    "        else:\n",
    "            m = int(np.floor(n/2))\n",
    "            return interlace(SortMERGE(a[0:m]),SortMERGE(a[m:n])) #recursive part - interlace first half of list with the second half\n",
    "        \n",
    "    else:\n",
    "        return 'Error: arguments must be lists'"
   ]
  },
  {
   "cell_type": "markdown",
   "metadata": {},
   "source": [
    "**Testing:**"
   ]
  },
  {
   "cell_type": "code",
   "execution_count": 7,
   "metadata": {},
   "outputs": [
    {
     "name": "stdout",
     "output_type": "stream",
     "text": [
      "[37, 217, 846, 982, 1169, 1322, 1436, 1534, 1629, 1649]\n"
     ]
    }
   ],
   "source": [
    "#test case\n",
    "#visible by eye - arrays up to 100 in size\n",
    "test4 = np.array(random.sample(range(1,2000),10))\n",
    "print(SortMERGE(test4))\n",
    "\n",
    "#for larger arrays\n",
    "test4 = np.array(random.sample(range(1,5000),1000))\n",
    "for l in range(2,len(test4)):\n",
    "    if test4[l] < SortINSR(test4)[:l-1].max() or test4[l] < test4[l-1]:\n",
    "        print('whoops') #should have no output if correct"
   ]
  },
  {
   "cell_type": "markdown",
   "metadata": {},
   "source": [
    "## Task 3 - fixing mergesort"
   ]
  },
  {
   "cell_type": "code",
   "execution_count": 8,
   "metadata": {},
   "outputs": [
    {
     "ename": "RecursionError",
     "evalue": "maximum recursion depth exceeded while calling a Python object",
     "output_type": "error",
     "traceback": [
      "\u001b[0;31m---------------------------------------------------------------------------\u001b[0m",
      "\u001b[0;31mRecursionError\u001b[0m                            Traceback (most recent call last)",
      "Input \u001b[0;32mIn [8]\u001b[0m, in \u001b[0;36m<cell line: 3>\u001b[0;34m()\u001b[0m\n\u001b[1;32m      1\u001b[0m \u001b[38;5;66;03m#testing for the maximum recursion depth for mergesort\u001b[39;00m\n\u001b[1;32m      2\u001b[0m test5 \u001b[38;5;241m=\u001b[39m random\u001b[38;5;241m.\u001b[39msample(\u001b[38;5;28mrange\u001b[39m(\u001b[38;5;241m1\u001b[39m,\u001b[38;5;241m10\u001b[39m\u001b[38;5;241m*\u001b[39m\u001b[38;5;241m*\u001b[39m\u001b[38;5;241m12\u001b[39m),\u001b[38;5;241m2\u001b[39m\u001b[38;5;241m*\u001b[39m\u001b[38;5;241m*\u001b[39m\u001b[38;5;241m12\u001b[39m)\n\u001b[0;32m----> 3\u001b[0m result \u001b[38;5;241m=\u001b[39m \u001b[43mSortMERGE\u001b[49m\u001b[43m(\u001b[49m\u001b[43mtest5\u001b[49m\u001b[43m)\u001b[49m\n",
      "Input \u001b[0;32mIn [6]\u001b[0m, in \u001b[0;36mSortMERGE\u001b[0;34m(a)\u001b[0m\n\u001b[1;32m      9\u001b[0m     \u001b[38;5;28;01melse\u001b[39;00m:\n\u001b[1;32m     10\u001b[0m         m \u001b[38;5;241m=\u001b[39m \u001b[38;5;28mint\u001b[39m(np\u001b[38;5;241m.\u001b[39mfloor(n\u001b[38;5;241m/\u001b[39m\u001b[38;5;241m2\u001b[39m))\n\u001b[0;32m---> 11\u001b[0m         \u001b[38;5;28;01mreturn\u001b[39;00m \u001b[43minterlace\u001b[49m\u001b[43m(\u001b[49m\u001b[43mSortMERGE\u001b[49m\u001b[43m(\u001b[49m\u001b[43ma\u001b[49m\u001b[43m[\u001b[49m\u001b[38;5;241;43m0\u001b[39;49m\u001b[43m:\u001b[49m\u001b[43mm\u001b[49m\u001b[43m]\u001b[49m\u001b[43m)\u001b[49m\u001b[43m,\u001b[49m\u001b[43mSortMERGE\u001b[49m\u001b[43m(\u001b[49m\u001b[43ma\u001b[49m\u001b[43m[\u001b[49m\u001b[43mm\u001b[49m\u001b[43m:\u001b[49m\u001b[43mn\u001b[49m\u001b[43m]\u001b[49m\u001b[43m)\u001b[49m\u001b[43m)\u001b[49m \u001b[38;5;66;03m#recursive part - interlace first half of list with the second half\u001b[39;00m\n\u001b[1;32m     13\u001b[0m \u001b[38;5;28;01melse\u001b[39;00m:\n\u001b[1;32m     14\u001b[0m     \u001b[38;5;28;01mreturn\u001b[39;00m \u001b[38;5;124m'\u001b[39m\u001b[38;5;124mError: arguments must be lists\u001b[39m\u001b[38;5;124m'\u001b[39m\n",
      "Input \u001b[0;32mIn [4]\u001b[0m, in \u001b[0;36minterlace\u001b[0;34m(list1, list2)\u001b[0m\n\u001b[1;32m     12\u001b[0m     \u001b[38;5;28;01melse\u001b[39;00m:\n\u001b[1;32m     13\u001b[0m         alist\u001b[38;5;241m.\u001b[39mappend(list2[\u001b[38;5;241m0\u001b[39m]) \u001b[38;5;66;03m#add list2[0] to alist if smaller than list1[0]\u001b[39;00m\n\u001b[0;32m---> 14\u001b[0m         \u001b[38;5;28;01mreturn\u001b[39;00m alist \u001b[38;5;241m+\u001b[39m \u001b[43minterlace\u001b[49m\u001b[43m(\u001b[49m\u001b[43mlist1\u001b[49m\u001b[43m,\u001b[49m\u001b[43m \u001b[49m\u001b[43mlist2\u001b[49m\u001b[43m[\u001b[49m\u001b[38;5;241;43m1\u001b[39;49m\u001b[43m:\u001b[49m\u001b[43m]\u001b[49m\u001b[43m)\u001b[49m \u001b[38;5;66;03m#recursive part - will compare next element of list1 with list1[0] etc\u001b[39;00m\n\u001b[1;32m     16\u001b[0m \u001b[38;5;28;01melse\u001b[39;00m:\n\u001b[1;32m     17\u001b[0m     \u001b[38;5;28;01mreturn\u001b[39;00m \u001b[38;5;124m'\u001b[39m\u001b[38;5;124mError: arguments must be lists\u001b[39m\u001b[38;5;124m'\u001b[39m\n",
      "Input \u001b[0;32mIn [4]\u001b[0m, in \u001b[0;36minterlace\u001b[0;34m(list1, list2)\u001b[0m\n\u001b[1;32m     12\u001b[0m     \u001b[38;5;28;01melse\u001b[39;00m:\n\u001b[1;32m     13\u001b[0m         alist\u001b[38;5;241m.\u001b[39mappend(list2[\u001b[38;5;241m0\u001b[39m]) \u001b[38;5;66;03m#add list2[0] to alist if smaller than list1[0]\u001b[39;00m\n\u001b[0;32m---> 14\u001b[0m         \u001b[38;5;28;01mreturn\u001b[39;00m alist \u001b[38;5;241m+\u001b[39m \u001b[43minterlace\u001b[49m\u001b[43m(\u001b[49m\u001b[43mlist1\u001b[49m\u001b[43m,\u001b[49m\u001b[43m \u001b[49m\u001b[43mlist2\u001b[49m\u001b[43m[\u001b[49m\u001b[38;5;241;43m1\u001b[39;49m\u001b[43m:\u001b[49m\u001b[43m]\u001b[49m\u001b[43m)\u001b[49m \u001b[38;5;66;03m#recursive part - will compare next element of list1 with list1[0] etc\u001b[39;00m\n\u001b[1;32m     16\u001b[0m \u001b[38;5;28;01melse\u001b[39;00m:\n\u001b[1;32m     17\u001b[0m     \u001b[38;5;28;01mreturn\u001b[39;00m \u001b[38;5;124m'\u001b[39m\u001b[38;5;124mError: arguments must be lists\u001b[39m\u001b[38;5;124m'\u001b[39m\n",
      "Input \u001b[0;32mIn [4]\u001b[0m, in \u001b[0;36minterlace\u001b[0;34m(list1, list2)\u001b[0m\n\u001b[1;32m      9\u001b[0m \u001b[38;5;28;01melif\u001b[39;00m list1[\u001b[38;5;241m0\u001b[39m] \u001b[38;5;241m<\u001b[39m list2[\u001b[38;5;241m0\u001b[39m]:\n\u001b[1;32m     10\u001b[0m     alist\u001b[38;5;241m.\u001b[39mappend(list1[\u001b[38;5;241m0\u001b[39m]) \u001b[38;5;66;03m#add list1[0] to alist if smaller than list2[0]\u001b[39;00m\n\u001b[0;32m---> 11\u001b[0m     \u001b[38;5;28;01mreturn\u001b[39;00m alist \u001b[38;5;241m+\u001b[39m \u001b[43minterlace\u001b[49m\u001b[43m(\u001b[49m\u001b[43mlist1\u001b[49m\u001b[43m[\u001b[49m\u001b[38;5;241;43m1\u001b[39;49m\u001b[43m:\u001b[49m\u001b[43m]\u001b[49m\u001b[43m,\u001b[49m\u001b[43m \u001b[49m\u001b[43mlist2\u001b[49m\u001b[43m)\u001b[49m \u001b[38;5;66;03m#recursive part - will compare next element of list1 with list2[0] etc\u001b[39;00m\n\u001b[1;32m     12\u001b[0m \u001b[38;5;28;01melse\u001b[39;00m:\n\u001b[1;32m     13\u001b[0m     alist\u001b[38;5;241m.\u001b[39mappend(list2[\u001b[38;5;241m0\u001b[39m]) \u001b[38;5;66;03m#add list2[0] to alist if smaller than list1[0]\u001b[39;00m\n",
      "    \u001b[0;31m[... skipping similar frames: interlace at line 14 (3 times)]\u001b[0m\n",
      "Input \u001b[0;32mIn [4]\u001b[0m, in \u001b[0;36minterlace\u001b[0;34m(list1, list2)\u001b[0m\n\u001b[1;32m      9\u001b[0m \u001b[38;5;28;01melif\u001b[39;00m list1[\u001b[38;5;241m0\u001b[39m] \u001b[38;5;241m<\u001b[39m list2[\u001b[38;5;241m0\u001b[39m]:\n\u001b[1;32m     10\u001b[0m     alist\u001b[38;5;241m.\u001b[39mappend(list1[\u001b[38;5;241m0\u001b[39m]) \u001b[38;5;66;03m#add list1[0] to alist if smaller than list2[0]\u001b[39;00m\n\u001b[0;32m---> 11\u001b[0m     \u001b[38;5;28;01mreturn\u001b[39;00m alist \u001b[38;5;241m+\u001b[39m \u001b[43minterlace\u001b[49m\u001b[43m(\u001b[49m\u001b[43mlist1\u001b[49m\u001b[43m[\u001b[49m\u001b[38;5;241;43m1\u001b[39;49m\u001b[43m:\u001b[49m\u001b[43m]\u001b[49m\u001b[43m,\u001b[49m\u001b[43m \u001b[49m\u001b[43mlist2\u001b[49m\u001b[43m)\u001b[49m \u001b[38;5;66;03m#recursive part - will compare next element of list1 with list2[0] etc\u001b[39;00m\n\u001b[1;32m     12\u001b[0m \u001b[38;5;28;01melse\u001b[39;00m:\n\u001b[1;32m     13\u001b[0m     alist\u001b[38;5;241m.\u001b[39mappend(list2[\u001b[38;5;241m0\u001b[39m]) \u001b[38;5;66;03m#add list2[0] to alist if smaller than list1[0]\u001b[39;00m\n",
      "    \u001b[0;31m[... skipping similar frames: interlace at line 11 (1478 times), interlace at line 14 (1477 times)]\u001b[0m\n",
      "Input \u001b[0;32mIn [4]\u001b[0m, in \u001b[0;36minterlace\u001b[0;34m(list1, list2)\u001b[0m\n\u001b[1;32m     12\u001b[0m     \u001b[38;5;28;01melse\u001b[39;00m:\n\u001b[1;32m     13\u001b[0m         alist\u001b[38;5;241m.\u001b[39mappend(list2[\u001b[38;5;241m0\u001b[39m]) \u001b[38;5;66;03m#add list2[0] to alist if smaller than list1[0]\u001b[39;00m\n\u001b[0;32m---> 14\u001b[0m         \u001b[38;5;28;01mreturn\u001b[39;00m alist \u001b[38;5;241m+\u001b[39m \u001b[43minterlace\u001b[49m\u001b[43m(\u001b[49m\u001b[43mlist1\u001b[49m\u001b[43m,\u001b[49m\u001b[43m \u001b[49m\u001b[43mlist2\u001b[49m\u001b[43m[\u001b[49m\u001b[38;5;241;43m1\u001b[39;49m\u001b[43m:\u001b[49m\u001b[43m]\u001b[49m\u001b[43m)\u001b[49m \u001b[38;5;66;03m#recursive part - will compare next element of list1 with list1[0] etc\u001b[39;00m\n\u001b[1;32m     16\u001b[0m \u001b[38;5;28;01melse\u001b[39;00m:\n\u001b[1;32m     17\u001b[0m     \u001b[38;5;28;01mreturn\u001b[39;00m \u001b[38;5;124m'\u001b[39m\u001b[38;5;124mError: arguments must be lists\u001b[39m\u001b[38;5;124m'\u001b[39m\n",
      "    \u001b[0;31m[... skipping similar frames: interlace at line 11 (7 times)]\u001b[0m\n",
      "Input \u001b[0;32mIn [4]\u001b[0m, in \u001b[0;36minterlace\u001b[0;34m(list1, list2)\u001b[0m\n\u001b[1;32m      9\u001b[0m \u001b[38;5;28;01melif\u001b[39;00m list1[\u001b[38;5;241m0\u001b[39m] \u001b[38;5;241m<\u001b[39m list2[\u001b[38;5;241m0\u001b[39m]:\n\u001b[1;32m     10\u001b[0m     alist\u001b[38;5;241m.\u001b[39mappend(list1[\u001b[38;5;241m0\u001b[39m]) \u001b[38;5;66;03m#add list1[0] to alist if smaller than list2[0]\u001b[39;00m\n\u001b[0;32m---> 11\u001b[0m     \u001b[38;5;28;01mreturn\u001b[39;00m alist \u001b[38;5;241m+\u001b[39m \u001b[43minterlace\u001b[49m\u001b[43m(\u001b[49m\u001b[43mlist1\u001b[49m\u001b[43m[\u001b[49m\u001b[38;5;241;43m1\u001b[39;49m\u001b[43m:\u001b[49m\u001b[43m]\u001b[49m\u001b[43m,\u001b[49m\u001b[43m \u001b[49m\u001b[43mlist2\u001b[49m\u001b[43m)\u001b[49m \u001b[38;5;66;03m#recursive part - will compare next element of list1 with list2[0] etc\u001b[39;00m\n\u001b[1;32m     12\u001b[0m \u001b[38;5;28;01melse\u001b[39;00m:\n\u001b[1;32m     13\u001b[0m     alist\u001b[38;5;241m.\u001b[39mappend(list2[\u001b[38;5;241m0\u001b[39m]) \u001b[38;5;66;03m#add list2[0] to alist if smaller than list1[0]\u001b[39;00m\n",
      "Input \u001b[0;32mIn [4]\u001b[0m, in \u001b[0;36minterlace\u001b[0;34m(list1, list2)\u001b[0m\n\u001b[1;32m      2\u001b[0m \u001b[38;5;28;01mdef\u001b[39;00m \u001b[38;5;21minterlace\u001b[39m(list1, list2):\n\u001b[0;32m----> 3\u001b[0m     \u001b[38;5;28;01mif\u001b[39;00m \u001b[38;5;28;43mtype\u001b[39;49m\u001b[43m(\u001b[49m\u001b[43mlist1\u001b[49m\u001b[43m)\u001b[49m \u001b[38;5;241m==\u001b[39m \u001b[38;5;28mlist\u001b[39m \u001b[38;5;129;01mand\u001b[39;00m \u001b[38;5;28mtype\u001b[39m(list2) \u001b[38;5;241m==\u001b[39m \u001b[38;5;28mlist\u001b[39m:\n\u001b[1;32m      4\u001b[0m         alist \u001b[38;5;241m=\u001b[39m [] \u001b[38;5;66;03m#new empty list to hold the interlaced elements\u001b[39;00m\n\u001b[1;32m      5\u001b[0m         \u001b[38;5;28;01mif\u001b[39;00m (\u001b[38;5;28mlen\u001b[39m(list1) \u001b[38;5;241m==\u001b[39m \u001b[38;5;241m0\u001b[39m):\n",
      "\u001b[0;31mRecursionError\u001b[0m: maximum recursion depth exceeded while calling a Python object"
     ]
    }
   ],
   "source": [
    "#testing for the maximum recursion depth for mergesort\n",
    "test5 = random.sample(range(1,10**12),2**12)\n",
    "result = SortMERGE(test5)"
   ]
  },
  {
   "cell_type": "markdown",
   "metadata": {},
   "source": [
    "It seems to exceed the maximum recursion depth for integer arrays of length $2^{12}$. We'll now edit the interlacing function to be non-recursive so we do not overflow the call stack."
   ]
  },
  {
   "cell_type": "markdown",
   "metadata": {},
   "source": [
    "**(Non-recursive) interlace function:** This function is the same as the recursive interlace function in terms of allowable arguments. To alter the function to be non-recursive, we use two variables ```j1``` and ```j2``` to keep track of the number of elements from ```list1``` and ```list2``` respectively which have already been interlaced into ```alist```. For each comparison we increment the suitable ```j``` variable by one until the list is exhausted."
   ]
  },
  {
   "cell_type": "code",
   "execution_count": 9,
   "metadata": {},
   "outputs": [],
   "source": [
    "#Interlacing function (non-recursive)\n",
    "def interlace_adapted(list1, list2):\n",
    "    if type(list1) == list and type(list2) == list: #designed to work for lists\n",
    "        alist = [] #new empty list to hold the interlaced elements\n",
    "        if (len(list1) == 0):\n",
    "            return list2 #return second list if first list empty\n",
    "        elif (len(list2) == 0):\n",
    "            return list1 #return first list if second list empty\n",
    "        else:\n",
    "            j1 = 0\n",
    "            j2 = 0 #index holders for j1 and j2 respectively\n",
    "            while j1 < len(list1) and j2 < len(list2): #repeats iteration until one of lists exhausted\n",
    "                if list1[j1] < list2[j2]: #if j1-th element in list1 is smallest...\n",
    "                    alist.append(list1[j1]) #...add it to alist...\n",
    "                    j1 += 1 #...and for further comparisons we will consider the subsequent element in list1\n",
    "                else: #if j2-th element in list2 is smallest, repeat above process for list2\n",
    "                    alist.append(list2[j2])\n",
    "                    j2 += 1\n",
    "            alist += list1[j1:] + list2[j2:] #append alist with remainder of both lists (one of which will be non-empty)\n",
    "            return alist #alist is interlaced\n",
    "    \n",
    "    else:\n",
    "        return 'Error: arguments must be lists'"
   ]
  },
  {
   "cell_type": "markdown",
   "metadata": {},
   "source": [
    "**Testing:**"
   ]
  },
  {
   "cell_type": "code",
   "execution_count": 10,
   "metadata": {},
   "outputs": [
    {
     "name": "stdout",
     "output_type": "stream",
     "text": [
      "test6 =  [486, 813, 707, 510, 414, 350, 726, 896]\n",
      "test7 =  [823, 936, 227]\n",
      "[486, 813, 707, 510, 414, 350, 726, 823, 896, 936, 227]\n"
     ]
    }
   ],
   "source": [
    "#test case\n",
    "size_diff = np.random.randint(-5,5) #also will test if it works for lists of different sizes\n",
    "test6 = random.sample(range(1,10**3),2**3)\n",
    "test7 = random.sample(range(1,10**3),2**3+size_diff)\n",
    "print('test6 = ',test6)\n",
    "print('test7 = ',test7)\n",
    "print(interlace_adapted(test6,test7))"
   ]
  },
  {
   "cell_type": "markdown",
   "metadata": {},
   "source": [
    "We will update the ```SortMERGE()``` function. The sole change is switching to the non-recursive ```interlace_adapted()``` function above."
   ]
  },
  {
   "cell_type": "code",
   "execution_count": 11,
   "metadata": {},
   "outputs": [],
   "source": [
    "#mergesort function\n",
    "def SortMERGE(a):\n",
    "    if type(a) == np.ndarray:\n",
    "        a = a.tolist() #need to convert arrays to lists for interlacing function to work\n",
    "    if type(a) == list:\n",
    "        n = len(a)\n",
    "        if n == 1:\n",
    "            return a #re-return the list if it contains only one element\n",
    "        else:\n",
    "            m = int(np.floor(n/2))\n",
    "            return interlace_adapted(SortMERGE(a[0:m]),SortMERGE(a[m:n])) #recursive part - interlace first half of list with the second half\n",
    "            \n",
    "    else:\n",
    "        return 'Error: arguments must be lists'"
   ]
  },
  {
   "cell_type": "markdown",
   "metadata": {},
   "source": [
    "**Testing:**"
   ]
  },
  {
   "cell_type": "code",
   "execution_count": 12,
   "metadata": {},
   "outputs": [
    {
     "name": "stdout",
     "output_type": "stream",
     "text": [
      "[822, 831, 1097, 1110, 1236, 1348, 1475, 1775, 1825, 1916]\n"
     ]
    }
   ],
   "source": [
    "#test case\n",
    "#visible by eye - arrays up to 100 in size\n",
    "test8 = np.array(random.sample(range(0,2000),10))\n",
    "print(SortMERGE(test8))\n",
    "\n",
    "#for larger arrays\n",
    "test8 = np.array(random.sample(range(0,10000),1000))\n",
    "for l in range(2,len(test8)):\n",
    "    if test8[l] < SortINSR(test8)[:l-1].max() or test8[l] < test8[l-1]:\n",
    "        print('whoops') #should have no output if correct"
   ]
  },
  {
   "cell_type": "markdown",
   "metadata": {},
   "source": [
    "How does it compare to the recursive interlacing function in terms of achieveable list length?"
   ]
  },
  {
   "cell_type": "code",
   "execution_count": 13,
   "metadata": {},
   "outputs": [
    {
     "data": {
      "text/plain": [
       "0.8943239070000004"
      ]
     },
     "execution_count": 13,
     "metadata": {},
     "output_type": "execute_result"
    }
   ],
   "source": [
    "#timed case of size 2^18\n",
    "import timeit\n",
    "\n",
    "test9 = random.sample(range(0,2**20),2**18)\n",
    "starttime = timeit.default_timer() #restart timer\n",
    "result = SortMERGE(test9)\n",
    "runtime = timeit.default_timer() - starttime #calulate runtime\n",
    "runtime"
   ]
  },
  {
   "cell_type": "markdown",
   "metadata": {},
   "source": [
    "The test case runs, so we appear to have overcome recursion depth. In the subsequent task we will exploit this to investigate the run time of the mergesort algorithm for random arrays of integers up to $2^{20}$ in length."
   ]
  },
  {
   "cell_type": "markdown",
   "metadata": {},
   "source": [
    "## Task 4 - runtime"
   ]
  },
  {
   "cell_type": "code",
   "execution_count": 14,
   "metadata": {},
   "outputs": [],
   "source": [
    "#timing\n",
    "max_pow = 20\n",
    "sizesMERGE = np.array([2**i for i in range(1,max_pow+1)]) #array of powers of 2 up to max desired power"
   ]
  },
  {
   "cell_type": "markdown",
   "metadata": {},
   "source": [
    "To smoothen our results, for each power of $2$ we run five times and take an average for the final runtime. With the exception of $2^1$, which is so small that we average over $10,000$ runs."
   ]
  },
  {
   "cell_type": "code",
   "execution_count": 15,
   "metadata": {
    "scrolled": true
   },
   "outputs": [
    {
     "name": "stdout",
     "output_type": "stream",
     "text": [
      "[2.034164800012661e-06, 6.1403999950471185e-06, 1.2827000000470435e-05, 2.7432600003862716e-05, 5.8507400001417406e-05, 0.00012156340000331056, 0.00023745159999748465, 0.0005274624000008998, 0.0010874688000001242, 0.002389038399999777, 0.004775560799998857, 0.009906451999998466, 0.020857401000003505, 0.04439700259999881, 0.09461357480000174, 0.19436622519999958, 0.43118301340000187, 0.9284845844000017, 2.0519799308000017, 4.270963881399998]\n"
     ]
    }
   ],
   "source": [
    "#merge sort\n",
    "runtimesMERGE = [np.float32(0.0)] * len(sizesMERGE) #stores runtimes\n",
    "\n",
    "j = 0\n",
    "for i in sizesMERGE: #for each power of 2...\n",
    "    if i == 2:\n",
    "        repeat = 10**4\n",
    "    else:\n",
    "        repeat = 5\n",
    "    for k in range(repeat):\n",
    "        A = random.sample(range(0,i*2**3),i) #generate random list\n",
    "        starttime = timeit.default_timer() #restart timer\n",
    "        resultMERGE = SortMERGE(A) #perform sorting algorithm\n",
    "        runtimesMERGE[j] += timeit.default_timer() - starttime #calulate runtime\n",
    "    runtimesMERGE[j] = runtimesMERGE[j]/repeat\n",
    "    j = j + 1\n",
    "\n",
    "print(runtimesMERGE)    "
   ]
  },
  {
   "cell_type": "markdown",
   "metadata": {},
   "source": [
    "Insertion sort takes much longer, so we will adjust our max desired power to $16$ so the code is executed in a reasonable time. As above, we run $2^1$ length $10,000$ times and larger lengths thereafter five times, however for length $2^{16}$ we only run once due to its large runtime (in the ballpark of $160s$)."
   ]
  },
  {
   "cell_type": "code",
   "execution_count": 16,
   "metadata": {},
   "outputs": [
    {
     "name": "stdout",
     "output_type": "stream",
     "text": [
      "[6.61837999898296e-07, 1.2246000011373326e-06, 2.480000000559812e-06, 7.638599998927021e-06, 2.7590799999188675e-05, 0.00010226180000074691, 0.0004796279999993658, 0.002151510600000961, 0.007874997800001893, 0.0326369719999974, 0.13548706119999848, 0.5430656684000013, 2.3032760591999932, 9.290389707799994, 42.33845538519999, 168.85789664700002]\n"
     ]
    }
   ],
   "source": [
    "#insertion method\n",
    "max_pow = 16\n",
    "sizesINSR = np.array([2**i for i in range(1,max_pow+1)]) #array of powers of 2\n",
    "\n",
    "runtimesINSR = [np.float32(0.0)] * len(sizesINSR) #stores runtimes\n",
    "\n",
    "j = 0\n",
    "for i in sizesINSR: #for each power of 2...\n",
    "    if i == 2:\n",
    "        repeat = 10**4\n",
    "    elif i > 2**15+1:\n",
    "        repeat = 1\n",
    "    else:\n",
    "        repeat = 5\n",
    "    for k in range(repeat):\n",
    "        A = random.sample(range(0,i*2**3),i) #generate random list\n",
    "        starttime = timeit.default_timer() #restart timer\n",
    "        resultINSR = SortINSR(A) #perform sorting algorithm\n",
    "        runtimesINSR[j] += timeit.default_timer() - starttime #calulate runtime\n",
    "    runtimesINSR[j] = runtimesINSR[j]/repeat\n",
    "    j = j + 1\n",
    "\n",
    "print(runtimesINSR)    "
   ]
  },
  {
   "cell_type": "code",
   "execution_count": 17,
   "metadata": {},
   "outputs": [
    {
     "data": {
      "text/plain": [
       "442.1343059569989"
      ]
     },
     "execution_count": 17,
     "metadata": {},
     "output_type": "execute_result"
    }
   ],
   "source": [
    "#rough gague on total runtime for insertion sort - ideally keeping this below 10 minutes\n",
    "total_time = 10000*runtimesINSR[0] + runtimesINSR[-1]\n",
    "for l in range(1,len(runtimesINSR)-1):\n",
    "    total_time += 5*runtimesINSR[l]\n",
    "total_time"
   ]
  },
  {
   "cell_type": "markdown",
   "metadata": {},
   "source": [
    "Save our runtimes to csv files"
   ]
  },
  {
   "cell_type": "code",
   "execution_count": 18,
   "metadata": {},
   "outputs": [
    {
     "name": "stdout",
     "output_type": "stream",
     "text": [
      "(16,)\n",
      "(20,)\n"
     ]
    }
   ],
   "source": [
    "print(np.shape(runtimesINSR))\n",
    "print(np.shape(runtimesMERGE))"
   ]
  },
  {
   "cell_type": "code",
   "execution_count": 19,
   "metadata": {},
   "outputs": [],
   "source": [
    "np.savetxt('./insertion_performance.csv', runtimesINSR, delimiter=\",\")  \n",
    "np.savetxt('./mergesort_performance.csv', runtimesMERGE, delimiter=\",\")  "
   ]
  },
  {
   "cell_type": "markdown",
   "metadata": {},
   "source": [
    "## Task 5 - empirical analysis of computational complexity"
   ]
  },
  {
   "cell_type": "code",
   "execution_count": 20,
   "metadata": {},
   "outputs": [
    {
     "name": "stdout",
     "output_type": "stream",
     "text": [
      "[6.61838000e-07 1.22460000e-06 2.48000000e-06 7.63860000e-06\n",
      " 2.75908000e-05 1.02261800e-04 4.79628000e-04 2.15151060e-03\n",
      " 7.87499780e-03 3.26369720e-02 1.35487061e-01 5.43065668e-01\n",
      " 2.30327606e+00 9.29038971e+00 4.23384554e+01 1.68857897e+02]\n",
      "[2.03416480e-06 6.14040000e-06 1.28270000e-05 2.74326000e-05\n",
      " 5.85074000e-05 1.21563400e-04 2.37451600e-04 5.27462400e-04\n",
      " 1.08746880e-03 2.38903840e-03 4.77556080e-03 9.90645200e-03\n",
      " 2.08574010e-02 4.43970026e-02 9.46135748e-02 1.94366225e-01\n",
      " 4.31183013e-01 9.28484584e-01 2.05197993e+00 4.27096388e+00]\n"
     ]
    }
   ],
   "source": [
    "#reload runtime data\n",
    "insertion_speed = np.genfromtxt('insertion_performance.csv')\n",
    "mergesort_speed = np.genfromtxt('mergesort_performance.csv')\n",
    "print(insertion_speed)\n",
    "print(mergesort_speed)"
   ]
  },
  {
   "cell_type": "code",
   "execution_count": 23,
   "metadata": {},
   "outputs": [
    {
     "data": {
      "image/png": "[encoded data removed]",
      "text/plain": [
       "<Figure size 864x576 with 1 Axes>"
      ]
     },
     "metadata": {
      "needs_background": "light"
     },
     "output_type": "display_data"
    }
   ],
   "source": [
    "#plotting\n",
    "plt.rcParams.update({'font.size': 22})\n",
    "\n",
    "plt.figure(figsize=(12, 8))\n",
    "\n",
    "plt.plot(sizesINSR, [i for i in insertion_speed], \"-ks\", label=r\"Computed runtime (Insertion)\", markersize=10, markerfacecolor=(0, 0.447, 0.741, 1))\n",
    "plt.plot(sizesMERGE, [i for i in mergesort_speed], \"-ko\", label=r\"Computed runtime (Merge Sort)\", markersize=10, markerfacecolor=(0.85, 0.325, 0.098, 1))\n",
    "\n",
    "plt.plot(sizesINSR, 1e-6*0.05*np.power(sizesINSR, 2.0), \"--b\", label=r\"$K_1 \\, n^2$\")\n",
    "plt.plot(sizesMERGE, 1e-6*0.5*sizesMERGE*np.log(sizesMERGE), \"--r\", label=r\"$K_2 \\, n \\log(n)$\")\n",
    "\n",
    "plt.legend(loc=\"upper left\")\n",
    "\n",
    "plt.xlabel(r\"$n$\")\n",
    "plt.ylabel(r\"time $(s)$\")\n",
    "plt.xscale(\"log\")\n",
    "plt.yscale(\"log\")\n",
    "plt.ylim([1e-7, 1e3])\n",
    "plt.grid()\n",
    "plt.show()"
   ]
  },
  {
   "cell_type": "markdown",
   "metadata": {},
   "source": [
    "How do our run times compare to theoretical expectations?\n",
    "\n",
    "**Insertion sort:** The worst-case theoretical complexity for the insertion algorithm is $F(n) \\sim \\mathcal{O}(n^2)$, arising from the fact that for all $n$ elements in our array we make up to $n - 1$ comparisons. Our run times for insertion sort scale in a similar fashion to $K_1 \\, n^2$, with $K_1 = 5 \\times 10^{-8}$ independent of $n$. This indicates that the complexity of our insertion sorting algorithm is $F(n) \\sim \\mathcal{O}(n^2)$, matching the theoretical expectations.\n",
    "\n",
    "**Merge sort:** The theoretical complexity of the merge sort algorithm is $F(n) \\sim \\mathcal{O}(n \\log_2{}n)$. To see this, suppose our list size $n$ is a power of 2. Note that the number of recursion levels L for a list of size $n$ satisfies $n = 2^L$, so $L = \\log_2{n}$. At level $m$ in the recursion there are $2 m$ sub-problems each of size $n/2 m$. Hence, the complexity of each level of the recursion is $\\sim \\mathcal{O}(n)$. This gives us a total complexity of $F(n) \\sim \\mathcal{O}(n \\log_2{}n)$ as desired. \\\n",
    "Our run times for the mergesort algorithm scale in a similar fashion to $K_2 \\, n \\log{}n$, with $K_2 = 5 \\times 10^{-7}$ independent of $n$. This indicates that the complexity of our insertion sorting algorithm is $F(n) \\sim \\mathcal{O}(n \\log{}n)$, matching the theoretical expectations."
   ]
  },
  {
   "cell_type": "code",
   "execution_count": null,
   "metadata": {},
   "outputs": [],
   "source": []
  }
 ],
 "metadata": {
  "kernelspec": {
   "display_name": "Python 3 (ipykernel)",
   "language": "python",
   "name": "python3"
  },
  "language_info": {
   "codemirror_mode": {
    "name": "ipython",
    "version": 3
   },
   "file_extension": ".py",
   "mimetype": "text/x-python",
   "name": "python",
   "nbconvert_exporter": "python",
   "pygments_lexer": "ipython3",
   "version": "3.9.12"
  }
 },
 "nbformat": 4,
 "nbformat_minor": 2
}
